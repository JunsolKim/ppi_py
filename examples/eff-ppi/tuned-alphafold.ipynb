{
 "cells": [
  {
   "cell_type": "markdown",
   "id": "8d723b5d-e9a2-41e2-ba67-ff10b1d6ac9d",
   "metadata": {},
   "source": [
    "# Relating protein structure and post-translational modifications\n",
    "\n",
    "The goal is to characterize whether various types of post-translational modifications (PTMs) occur more frequently in intrinsically disordered regions (IDRs) of proteins (1). The target of inference is the odds ratio associating being in an IDR and having a PTM.\n",
    "This notebook shows how to do inference on the odds ratio via PPI by using structures predicted by AlphaFold (2) to predict IDRs. IDRs are predicted from structures following the strategy of Bludau et al. (3).\n",
    "\n",
    "1. L. M. Iakoucheva, P. Radivojac, C. J. Brown, T. R. O’Connor, J. G. Sikes, Z. Obradovic, A. K. Dunker, The importance of intrinsic disorder for protein phosphorylation. Nucleic Acids Res. 32, 1037–1049 (2004).\n",
    "2. J. Jumper, R. Evans, A. Pritzel, T. Green, M. Figurnov, O. Ronneberger, K. Tunyasuvunakool, R. Bates, A. Žídek, A. Potapenko, A. Bridgland, C. Meyer, S. A. A. Kohl, A. J. Ballard, A. Cowie, B. Romera-Paredes, S. Nikolov, R. Jain, J. Adler, T. Back, S. Petersen, D. Reiman, E. Clancy, M. Zielinski, M. Steinegger, M. Pacholska, T. Berghammer, S. Bodenstein, D. Silver, O. Vinyals, A. W. Senior, K. Kavukcuoglu, P. Kohli, D. Hassabis, Highly accurate protein structure prediction with AlphaFold. Nature 596(7873), 583–589 (2021). \n",
    "3. I. Bludau, S. Willems, W-F. Zeng, M. T. Strauss, F. M. Hansen, M. C. Tanzer, O. Karayel, B. A. Schulman, M. Mann, The structural context of posttranslational modifications at a proteome-wide scale. PLoS Biology 20(5), e3001636 (2022)."
   ]
  },
  {
   "cell_type": "markdown",
   "id": "14d2f594-03a8-4878-9454-42cc5ea3a81f",
   "metadata": {},
   "source": [
    "### Import necessary packages"
   ]
  },
  {
   "cell_type": "code",
   "execution_count": 8,
   "id": "4f57ecd3",
   "metadata": {},
   "outputs": [],
   "source": [
    "import os, sys\n",
    "\n",
    "sys.path.append(os.path.join(os.getcwd(), os.pardir, os.pardir))\n",
    "import numpy as np\n",
    "import pandas as pd\n",
    "from ppi_py.datasets import load_dataset\n",
    "from ppi_py import ppi_mean_ci, classical_mean_ci\n",
    "from tqdm import tqdm\n",
    "from scipy.optimize import brentq\n",
    "from scipy.stats import norm\n",
    "from utils import *"
   ]
  },
  {
   "cell_type": "markdown",
   "id": "5cf90ae6",
   "metadata": {},
   "source": [
    "### Import the AlphaFold data set\n",
    "\n",
    "Load the data. The data set contains true indicators of disorder (```Y```), predicted indicators of disorder (```Yhat```), and indicators of a PTM (```phosphorylated```, ```ubiquitinated```, or ```acetylated```). Predictions of disorder are made based on AlphaFold predictions of structure."
   ]
  },
  {
   "cell_type": "code",
   "execution_count": 9,
   "id": "a6da3138",
   "metadata": {},
   "outputs": [],
   "source": [
    "dataset_folder = \"../data/\"\n",
    "data = load_dataset(dataset_folder, \"alphafold\")\n",
    "Y_total = data[\"Y\"]\n",
    "Yhat_total = data[\"Yhat\"]\n",
    "Z = data[\"phosphorylated\"].astype(\n",
    "    bool\n",
    ")  # Can choose from \"phosphorylated\", \"ubiquitinated\", or \"acetylated\""
   ]
  },
  {
   "cell_type": "markdown",
   "id": "8969f9db",
   "metadata": {},
   "source": [
    "### Problem setup\n",
    "\n",
    "Specify the error level (```alpha```), range of values for the labeled data set size (```ns```), and number of trials (```num_trials```).\n",
    "\n",
    "Compute the ground-truth value of the estimand."
   ]
  },
  {
   "cell_type": "code",
   "execution_count": 10,
   "id": "5b3c8f29",
   "metadata": {},
   "outputs": [],
   "source": [
    "alpha = 0.1\n",
    "ns = np.linspace(1000, 5000, 10).astype(int)\n",
    "num_trials = 100\n",
    "\n",
    "# Split into two subgroups for odds ratio calculation\n",
    "Y0_total, Y1_total = Y_total[~Z], Y_total[Z]\n",
    "Yhat0_total, Yhat1_total = Yhat_total[~Z], Yhat_total[Z]\n",
    "n0_total = Y0_total.shape[0]\n",
    "n1_total = Y1_total.shape[0]\n",
    "sample_ratio = n0_total / Y_total.shape[0]\n",
    "\n",
    "# True odds ratio\n",
    "mu0 = Y0_total.mean()\n",
    "mu1 = Y1_total.mean()\n",
    "odds_ratio = (mu1 / (1 - mu1)) / (mu0 / (1 - mu0))"
   ]
  },
  {
   "cell_type": "markdown",
   "id": "83ce18be",
   "metadata": {},
   "source": [
    "### Construct intervals\n",
    "\n",
    "Form confidence intervals for all methods and problem parameters. A dataframe with the following columns is formed:\n",
    "1. ```method``` (one of ```PPI```, ```Classical```, and ```tuned PPI```)\n",
    "2. ```n``` (labeled data set size, takes values in ```ns```)\n",
    "3. ```lower``` (lower endpoint of the confidence interval)\n",
    "4. ```upper``` (upper endpoint of the confidence interval)\n",
    "5. ```trial``` (index of trial, goes from ```0``` to ```num_trials-1```)"
   ]
  },
  {
   "cell_type": "code",
   "execution_count": 11,
   "id": "55c3df32",
   "metadata": {},
   "outputs": [],
   "source": [
    "def odds_ratio_ci(Y0, Yhat0, Yhat0_unlabeled, Y1, Yhat1, Yhat1_unlabeled, alpha, lam0=None, lam1=None):\n",
    "    n0 = Y0.shape[0]; N0 = Yhat0_unlabeled.shape[0]\n",
    "    n1 = Y1.shape[0]; N1 = Yhat1_unlabeled.shape[0]\n",
    "    if lam0 is None:\n",
    "        lam0 = np.cov(Y0, Yhat0)[1,0]/((1+n0/N0)*np.var(np.concatenate([Yhat0, Yhat0_unlabeled])))\n",
    "    if lam1 is None:\n",
    "        lam1 = np.cov(Y1, Yhat1)[1,0]/((1+n1/N1)*np.var(np.concatenate([Yhat1, Yhat1_unlabeled])))\n",
    "    mu0_hat = Y0.mean() + lam0*(Yhat0_unlabeled.mean() - Yhat0.mean())\n",
    "    mu1_hat = Y1.mean() + lam1*(Yhat1_unlabeled.mean() - Yhat1.mean())\n",
    "    ppi_pointest_log = np.log(mu1_hat/(1-mu1_hat)) - np.log(mu0_hat/(1-mu0_hat))\n",
    "    var0 = 1/np.var(Y0) + ((lam0**2) * (1+n0/N0) * np.var(Yhat0))/(np.var(Y0)**2) - (2*lam0*np.cov(Y0,Yhat0)[1,0])/(np.var(Y0)**2)\n",
    "    var1 = 1/np.var(Y1) + ((lam1**2) * (1+n1/N1) * np.var(Yhat1))/(np.var(Y1)**2) - (2*lam1*np.cov(Y1,Yhat1)[1,0])/(np.var(Y1)**2)\n",
    "    p0 = n0/(n0+n1)\n",
    "    p1 = n1/(n0+n1)\n",
    "    var = 1/p0*var0 + 1/p1*var1\n",
    "    hw_log = norm.ppf(1-alpha/2)*np.sqrt(var/(n0+n1))\n",
    "    return np.exp(ppi_pointest_log - hw_log), np.exp(ppi_pointest_log + hw_log)"
   ]
  },
  {
   "cell_type": "code",
   "execution_count": 12,
   "id": "812f8fd5",
   "metadata": {},
   "outputs": [
    {
     "name": "stderr",
     "output_type": "stream",
     "text": [
      "100%|██████████| 10/10 [00:09<00:00,  1.04it/s]\n"
     ]
    }
   ],
   "source": [
    "# Run prediction-powered inference and classical inference for many values of n\n",
    "results = []\n",
    "for i in tqdm(range(ns.shape[0])):\n",
    "    for j in range(num_trials):\n",
    "        # Split the data\n",
    "        n = ns[i]\n",
    "        _n0 = int(n * sample_ratio)\n",
    "        _n1 = n - _n0\n",
    "        rand_idx_0 = np.random.permutation(n0_total)\n",
    "        rand_idx_1 = np.random.permutation(n1_total)\n",
    "        _Yhat0 = Yhat0_total[rand_idx_0[:_n0]]\n",
    "        _Y0 = Y0_total[rand_idx_0[:_n0]]\n",
    "        _Yhat0_unlabeled = Yhat0_total[rand_idx_0[_n0:]]\n",
    "        _Yhat1 = Yhat1_total[rand_idx_1[:_n1]]\n",
    "        _Y1 = Y1_total[rand_idx_1[:_n1]]\n",
    "        _Yhat1_unlabeled = Yhat1_total[rand_idx_1[_n1:]]\n",
    "\n",
    "        # PPI        \n",
    "        ppi_odds_ratio_ci = odds_ratio_ci(_Y0, _Yhat0, _Yhat0_unlabeled, _Y1, _Yhat1, _Yhat1_unlabeled, alpha, lam0=1, lam1=1)\n",
    "\n",
    "        # PPI (tuned)\n",
    "        ppi_odds_ratio_ci_tuned = odds_ratio_ci(_Y0, _Yhat0, _Yhat0_unlabeled, _Y1, _Yhat1, _Yhat1_unlabeled, alpha)\n",
    "        \n",
    "        # Classical interval\n",
    "        classical_odds_ratio_ci = odds_ratio_ci(_Y0, _Yhat0, _Yhat0_unlabeled, _Y1, _Yhat1, _Yhat1_unlabeled, alpha, lam0=0, lam1=0)\n",
    "\n",
    "        # Append results\n",
    "        results += [\n",
    "            pd.DataFrame(\n",
    "                [\n",
    "                    {\n",
    "                        \"method\": \"PPI\",\n",
    "                        \"n\": n,\n",
    "                        \"lower\": ppi_odds_ratio_ci[0],\n",
    "                        \"upper\": ppi_odds_ratio_ci[1],\n",
    "                        \"included\": (ppi_odds_ratio_ci[0] <= odds_ratio)\n",
    "                        & (ppi_odds_ratio_ci[1] >= odds_ratio),\n",
    "                        \"trial\": j,\n",
    "                    }\n",
    "                ]\n",
    "            )\n",
    "        ]\n",
    "        \n",
    "        results += [\n",
    "            pd.DataFrame(\n",
    "                [\n",
    "                    {\n",
    "                        \"method\": \"PPI++\",\n",
    "                        \"n\": n,\n",
    "                        \"lower\": ppi_odds_ratio_ci_tuned[0],\n",
    "                        \"upper\": ppi_odds_ratio_ci_tuned[1],\n",
    "                        \"included\": (ppi_odds_ratio_ci_tuned[0] <= odds_ratio)\n",
    "                        & (ppi_odds_ratio_ci_tuned[1] >= odds_ratio),\n",
    "                        \"trial\": j,\n",
    "                    }\n",
    "                ]\n",
    "            )\n",
    "        ]\n",
    "        \n",
    "        results += [\n",
    "            pd.DataFrame(\n",
    "                [\n",
    "                    {\n",
    "                        \"method\": \"classical\",\n",
    "                        \"n\": n,\n",
    "                        \"lower\": classical_odds_ratio_ci[0],\n",
    "                        \"upper\": classical_odds_ratio_ci[1],\n",
    "                        \"included\": (classical_odds_ratio_ci[0] <= odds_ratio)\n",
    "                        & (classical_odds_ratio_ci[1] >= odds_ratio),\n",
    "                        \"trial\": j,\n",
    "                    }\n",
    "                ]\n",
    "            )\n",
    "        ]\n",
    "\n",
    "df = pd.concat(results, axis=0, ignore_index=True)\n",
    "df[\"width\"] = df[\"upper\"] - df[\"lower\"]"
   ]
  },
  {
   "cell_type": "code",
   "execution_count": 13,
   "id": "fbe807d2",
   "metadata": {},
   "outputs": [
    {
     "data": {
      "image/png": "[encoded data removed]",
      "text/plain": [
       "<Figure size 800x200 with 2 Axes>"
      ]
     },
     "metadata": {},
     "output_type": "display_data"
    }
   ],
   "source": [
    "palette = {\n",
    "    \"PPI++\": \"darkorange\",\n",
    "    \"PPI\": \"#83C980\",\n",
    "    \"classical\": \"cornflowerblue\",\n",
    "}\n",
    "linewidth = 2\n",
    "\n",
    "fig, axs = plt.subplots(nrows=1, ncols=2, figsize=(8, 2), sharex=True)\n",
    "cvg_ax = axs[0]\n",
    "sz_ax = axs[1]\n",
    "sns.lineplot(\n",
    "    ax=cvg_ax,\n",
    "    data=df,\n",
    "    x=\"n\",\n",
    "    y=\"included\",\n",
    "    linewidth=linewidth,\n",
    "    errorbar=None,\n",
    "    hue=\"method\",\n",
    "    legend=False,\n",
    "    palette=palette,\n",
    "    alpha=0.8,\n",
    ")\n",
    "sns.lineplot(\n",
    "    ax=sz_ax,\n",
    "    data=df,\n",
    "    x=\"n\",\n",
    "    y=\"width\",\n",
    "    linewidth=linewidth,\n",
    "    errorbar=None,\n",
    "    hue=\"method\",\n",
    "    legend=True,\n",
    "    palette=palette,\n",
    "    alpha=0.8,\n",
    ")\n",
    "cvg_ax.set_ylabel(\"coverage\")\n",
    "cvg_ax.set_ylim([0.5, 1.03])\n",
    "cvg_ax.axhline(y=1 - alpha, color=\"#888888\", linestyle=\"dotted\")\n",
    "cvg_ax.set_xlabel(\"n\")\n",
    "sz_ax.set_ylabel(\"width\")\n",
    "sz_ax.legend_.set_title(None)\n",
    "sns.despine(top=True, right=True)\n",
    "plt.tight_layout()\n",
    "os.makedirs(\"./plots\", exist_ok=True)\n",
    "plt.savefig(\"./plots/tuned-PPI-alphafold.pdf\")"
   ]
  }
 ],
 "metadata": {
  "kernelspec": {
   "display_name": "Python 3 (ipykernel)",
   "language": "python",
   "name": "python3"
  },
  "language_info": {
   "codemirror_mode": {
    "name": "ipython",
    "version": 3
   },
   "file_extension": ".py",
   "mimetype": "text/x-python",
   "name": "python",
   "nbconvert_exporter": "python",
   "pygments_lexer": "ipython3",
   "version": "3.12.2"
  }
 },
 "nbformat": 4,
 "nbformat_minor": 5
}
