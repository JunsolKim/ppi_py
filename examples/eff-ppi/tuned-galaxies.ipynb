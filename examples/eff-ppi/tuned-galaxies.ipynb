{
 "cells": [
  {
   "cell_type": "markdown",
   "id": "9cacba7c-b3e3-4b6d-a0c0-c0d396cb4faa",
   "metadata": {},
   "source": [
    "# Galaxy classification\n",
    "\n",
    "The goal is to determine the demographics of galaxies with spiral arms, which are correlated with star formation in the discs of low-redshift galaxies, and therefore, contribute to the understanding of star formation in the Local Universe. A large citizen science initiative called Galaxy Zoo 2 (1) has collected human annotations of roughly 300000 images of galaxies from the Sloan Digital Sky Survey (2) with the goal of measuring these demographics. The target of inference is the fraction of galaxies with spiral arms. This notebook shows that prediction-powered inference allows for a decrease in the requisite number of human-annotated galaxies by imputing labels via computer vision.\n",
    "\n",
    "1. K. W. Willett,  C. J. Lintott,  S. P. Bamford,  K. L. Masters, B. D. Simmons,  K. R. V. Casteels,  E. M. Edmondson,  L. F. Fortson, S. Kaviraj,  W. C. Keel, T. Melvin, R. C. Nichol, M. J. Raddick, K. Schawinski, R. J. Simpson, R. A. Skibba, A. M. Smith, D. Thomas, Galaxy Zoo 2: detailed morphological classifications for 304 122 galaxies from the Sloan Digital Sky Survey. Monthly Notices of the Royal Astronomical Society 435(4), 2835–2860 (2013).\n",
    "2. D. G. York, J. Adelman, J. E. Anderson Jr, S. F. Anderson, J. Annis, N. A. Bahcall, …, N. Yasuda, The Sloan digital sky survey: Technical summary. The Astronomical Journal 120(3), 1579 (2000)."
   ]
  },
  {
   "cell_type": "markdown",
   "id": "684efc31-fc6e-43e7-9522-bd38ad45afe1",
   "metadata": {},
   "source": [
    "### Import necessary packages"
   ]
  },
  {
   "cell_type": "code",
   "execution_count": 7,
   "id": "df3bad0d-8280-4d3b-9950-e456d8dc7328",
   "metadata": {},
   "outputs": [
    {
     "name": "stdout",
     "output_type": "stream",
     "text": [
      "The autoreload extension is already loaded. To reload it, use:\n",
      "  %reload_ext autoreload\n"
     ]
    }
   ],
   "source": [
    "%load_ext autoreload\n",
    "%autoreload 2\n",
    "import os, sys\n",
    "\n",
    "sys.path.append(os.path.abspath(os.path.join(os.getcwd(), os.pardir, os.pardir)))\n",
    "import numpy as np\n",
    "import pandas as pd\n",
    "from ppi_py.datasets import load_dataset\n",
    "from ppi_py import ppi_mean_ci, classical_mean_ci\n",
    "from tqdm import tqdm\n",
    "from scipy.optimize import brentq\n",
    "from utils import *"
   ]
  },
  {
   "cell_type": "markdown",
   "id": "5cf90ae6",
   "metadata": {},
   "source": [
    "### Import the forest data set\n",
    "\n",
    "Load the data. The data set contains gold-standard deforestation labels (```Y```) and predicted deforestation labels (```Yhat```)."
   ]
  },
  {
   "cell_type": "code",
   "execution_count": 8,
   "id": "a6da3138",
   "metadata": {},
   "outputs": [],
   "source": [
    "dataset_folder = \"../data/\"\n",
    "data = load_dataset(dataset_folder, \"galaxies\")\n",
    "Y_total = data[\"Y\"]\n",
    "Yhat_total = data[\"Yhat\"]"
   ]
  },
  {
   "cell_type": "markdown",
   "id": "8969f9db",
   "metadata": {},
   "source": [
    "### Problem setup\n",
    "\n",
    "Specify the error level (```alpha```), range of values for the labeled data set size (```ns```), and number of trials (```num_trials```).\n",
    "\n",
    "Compute the ground-truth value of the estimand."
   ]
  },
  {
   "cell_type": "code",
   "execution_count": 9,
   "id": "5b3c8f29",
   "metadata": {},
   "outputs": [],
   "source": [
    "alpha = 0.1\n",
    "n_total = Y_total.shape[0]  # Total number of labeled examples\n",
    "ns = np.linspace(200, 1000, 10).astype(\n",
    "    int\n",
    ")  # Test for different numbers of labeled examples\n",
    "num_trials = 100\n",
    "\n",
    "# True mean (computed on all labels)\n",
    "true_theta = Y_total.mean()"
   ]
  },
  {
   "cell_type": "markdown",
   "id": "83ce18be",
   "metadata": {},
   "source": [
    "### Construct intervals\n",
    "\n",
    "Form confidence intervals for all methods and problem parameters. A dataframe with the following columns is formed:\n",
    "1. ```method``` (one of ```PPI```, ```Classical```, and ```tuned PPI```)\n",
    "2. ```n``` (labeled data set size, takes values in ```ns```)\n",
    "3. ```lower``` (lower endpoint of the confidence interval)\n",
    "4. ```upper``` (upper endpoint of the confidence interval)\n",
    "5. ```trial``` (index of trial, goes from ```0``` to ```num_trials-1```)"
   ]
  },
  {
   "cell_type": "code",
   "execution_count": 10,
   "id": "812f8fd5",
   "metadata": {},
   "outputs": [
    {
     "name": "stderr",
     "output_type": "stream",
     "text": [
      "100%|██████████| 10/10 [00:09<00:00,  1.04it/s]\n"
     ]
    }
   ],
   "source": [
    "# Run prediction-powered inference and classical inference for many values of n\n",
    "results = []\n",
    "for i in tqdm(range(ns.shape[0])):\n",
    "    for j in range(num_trials):\n",
    "        # Prediction-Powered Inference\n",
    "        n = ns[i]\n",
    "        rand_idx = np.random.permutation(n_total)\n",
    "        _Yhat = Yhat_total[rand_idx[:n]]\n",
    "        _Y = Y_total[rand_idx[:n]]\n",
    "        _Yhat_unlabeled = Yhat_total[n:]\n",
    "\n",
    "        ppi_ci = ppi_mean_ci(_Y, _Yhat, _Yhat_unlabeled, lam=1, alpha=alpha)\n",
    "        ppi_ci_tuned = ppi_mean_ci(_Y, _Yhat, _Yhat_unlabeled, alpha=alpha)\n",
    "\n",
    "        # Classical interval\n",
    "        classical_ci = classical_mean_ci(_Y, alpha=alpha)\n",
    "\n",
    "        # Append results\n",
    "        results += [\n",
    "            pd.DataFrame(\n",
    "                [\n",
    "                    {\n",
    "                        \"method\": \"PPI\",\n",
    "                        \"n\": n,\n",
    "                        \"lower\": ppi_ci[0][0],\n",
    "                        \"upper\": ppi_ci[1][0],\n",
    "                        \"included\": (ppi_ci[0][0] <= true_theta)\n",
    "                        & (ppi_ci[1][0] >= true_theta),\n",
    "                        \"trial\": j,\n",
    "                    }\n",
    "                ]\n",
    "            )\n",
    "        ]\n",
    "        results += [\n",
    "            pd.DataFrame(\n",
    "                [\n",
    "                    {\n",
    "                        \"method\": \"PPI++\",\n",
    "                        \"n\": n,\n",
    "                        \"lower\": ppi_ci_tuned[0][0],\n",
    "                        \"upper\": ppi_ci_tuned[1][0],\n",
    "                        \"included\": (ppi_ci_tuned[0][0] <= true_theta)\n",
    "                        & (ppi_ci_tuned[1][0] >= true_theta),\n",
    "                        \"trial\": j,\n",
    "                    }\n",
    "                ]\n",
    "            )\n",
    "        ]\n",
    "        results += [\n",
    "            pd.DataFrame(\n",
    "                [\n",
    "                    {\n",
    "                        \"method\": \"classical\",\n",
    "                        \"n\": n,\n",
    "                        \"lower\": classical_ci[0],\n",
    "                        \"upper\": classical_ci[1],\n",
    "                        \"included\": (classical_ci[0] <= true_theta)\n",
    "                        & (classical_ci[1] >= true_theta),\n",
    "                        \"trial\": j,\n",
    "                    }\n",
    "                ]\n",
    "            )\n",
    "        ]\n",
    "\n",
    "df = pd.concat(results, axis=0, ignore_index=True)\n",
    "df[\"width\"] = df[\"upper\"] - df[\"lower\"]"
   ]
  },
  {
   "cell_type": "code",
   "execution_count": 11,
   "id": "0dc8f8f9",
   "metadata": {},
   "outputs": [
    {
     "data": {
      "image/png": "[encoded data removed]",
      "text/plain": [
       "<Figure size 800x200 with 2 Axes>"
      ]
     },
     "metadata": {},
     "output_type": "display_data"
    }
   ],
   "source": [
    "palette = {\n",
    "    \"PPI++\": \"darkorange\",\n",
    "    \"PPI\": \"#83C980\",\n",
    "    \"classical\": \"cornflowerblue\",\n",
    "}\n",
    "linewidth = 2\n",
    "\n",
    "fig, axs = plt.subplots(nrows=1, ncols=2, figsize=(8, 2), sharex=True)\n",
    "cvg_ax = axs[0]\n",
    "sz_ax = axs[1]\n",
    "sns.lineplot(\n",
    "    ax=cvg_ax,\n",
    "    data=df,\n",
    "    x=\"n\",\n",
    "    y=\"included\",\n",
    "    linewidth=linewidth,\n",
    "    errorbar=None,\n",
    "    hue=\"method\",\n",
    "    legend=False,\n",
    "    palette=palette,\n",
    "    alpha=0.8,\n",
    ")\n",
    "sns.lineplot(\n",
    "    ax=sz_ax,\n",
    "    data=df,\n",
    "    x=\"n\",\n",
    "    y=\"width\",\n",
    "    linewidth=linewidth,\n",
    "    errorbar=None,\n",
    "    hue=\"method\",\n",
    "    legend=True,\n",
    "    palette=palette,\n",
    "    alpha=0.8,\n",
    ")\n",
    "cvg_ax.set_ylabel(\"coverage\")\n",
    "cvg_ax.set_ylim([0.5, 1.03])\n",
    "cvg_ax.axhline(y=1 - alpha, color=\"#888888\", linestyle=\"dotted\")\n",
    "cvg_ax.set_xlabel(\"n\")\n",
    "sz_ax.set_ylabel(\"width\")\n",
    "sz_ax.legend_.set_title(None)\n",
    "sns.despine(top=True, right=True)\n",
    "plt.tight_layout()\n",
    "os.makedirs(\"./plots\", exist_ok=True)\n",
    "plt.savefig(\"./plots/tuned-PPI-galaxies.pdf\")"
   ]
  }
 ],
 "metadata": {
  "kernelspec": {
   "display_name": "Python 3 (ipykernel)",
   "language": "python",
   "name": "python3"
  },
  "language_info": {
   "codemirror_mode": {
    "name": "ipython",
    "version": 3
   },
   "file_extension": ".py",
   "mimetype": "text/x-python",
   "name": "python",
   "nbconvert_exporter": "python",
   "pygments_lexer": "ipython3",
   "version": "3.12.2"
  }
 },
 "nbformat": 4,
 "nbformat_minor": 5
}
