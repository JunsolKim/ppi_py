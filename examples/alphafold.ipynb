{
 "cells": [
  {
   "cell_type": "markdown",
   "id": "8d723b5d-e9a2-41e2-ba67-ff10b1d6ac9d",
   "metadata": {},
   "source": [
    "# Relating protein structure and post-translational modifications\n",
    "\n",
    "The goal is to characterize whether various types of post-translational modifications (PTMs) occur more frequently in intrinsically disordered regions (IDRs) of proteins (1). The target of inference is the odds ratio associating being in an IDR and having a PTM.\n",
    "This notebook shows how to do inference on the odds ratio via PPI by using structures predicted by AlphaFold (2) to predict IDRs. IDRs are predicted from structures following the strategy of Bludau et al. (3).\n",
    "\n",
    "1. L. M. Iakoucheva, P. Radivojac, C. J. Brown, T. R. O’Connor, J. G. Sikes, Z. Obradovic, A. K. Dunker, The importance of intrinsic disorder for protein phosphorylation. Nucleic Acids Res. 32, 1037–1049 (2004).\n",
    "2. J. Jumper, R. Evans, A. Pritzel, T. Green, M. Figurnov, O. Ronneberger, K. Tunyasuvunakool, R. Bates, A. Žídek, A. Potapenko, A. Bridgland, C. Meyer, S. A. A. Kohl, A. J. Ballard, A. Cowie, B. Romera-Paredes, S. Nikolov, R. Jain, J. Adler, T. Back, S. Petersen, D. Reiman, E. Clancy, M. Zielinski, M. Steinegger, M. Pacholska, T. Berghammer, S. Bodenstein, D. Silver, O. Vinyals, A. W. Senior, K. Kavukcuoglu, P. Kohli, D. Hassabis, Highly accurate protein structure prediction with AlphaFold. Nature 596(7873), 583–589 (2021). \n",
    "3. I. Bludau, S. Willems, W-F. Zeng, M. T. Strauss, F. M. Hansen, M. C. Tanzer, O. Karayel, B. A. Schulman, M. Mann, The structural context of posttranslational modifications at a proteome-wide scale. PLoS Biology 20(5), e3001636 (2022)."
   ]
  },
  {
   "cell_type": "markdown",
   "id": "14d2f594-03a8-4878-9454-42cc5ea3a81f",
   "metadata": {},
   "source": [
    "### Import necessary packages"
   ]
  },
  {
   "cell_type": "code",
   "execution_count": 1,
   "id": "4f57ecd3",
   "metadata": {},
   "outputs": [],
   "source": [
    "import os, sys\n",
    "\n",
    "sys.path.append(os.path.abspath(os.path.join(os.getcwd(), os.pardir)))\n",
    "import numpy as np\n",
    "import pandas as pd\n",
    "from ppi_py.datasets import load_dataset\n",
    "from ppi_py import ppi_mean_ci, classical_mean_ci\n",
    "from tqdm import tqdm\n",
    "from scipy.optimize import brentq\n",
    "from scipy.stats import norm\n",
    "from utils import *"
   ]
  },
  {
   "cell_type": "markdown",
   "id": "5cf90ae6",
   "metadata": {},
   "source": [
    "### Import the AlphaFold data set\n",
    "\n",
    "Load the data. The data set contains true indicators of disorder (```Y```), predicted indicators of disorder (```Yhat```), and indicators of a PTM (```phosphorylated```, ```ubiquitinated```, or ```acetylated```). Predictions of disorder are made based on AlphaFold predictions of structure."
   ]
  },
  {
   "cell_type": "code",
   "execution_count": 2,
   "id": "a6da3138",
   "metadata": {},
   "outputs": [],
   "source": [
    "dataset_folder = \"./data/\"\n",
    "data = load_dataset(dataset_folder, \"alphafold\")\n",
    "Y_total = data[\"Y\"]\n",
    "Yhat_total = data[\"Yhat\"]\n",
    "Z = data[\"phosphorylated\"].astype(\n",
    "    bool\n",
    ")  # Can choose from \"phosphorylated\", \"ubiquitinated\", or \"acetylated\""
   ]
  },
  {
   "cell_type": "markdown",
   "id": "8969f9db",
   "metadata": {},
   "source": [
    "### Problem setup\n",
    "\n",
    "Specify the error level (```alpha```), range of values for the labeled data set size (```ns```), and number of trials (```num_trials```).\n",
    "\n",
    "Compute the ground-truth value of the estimand."
   ]
  },
  {
   "cell_type": "code",
   "execution_count": 3,
   "id": "5b3c8f29",
   "metadata": {},
   "outputs": [],
   "source": [
    "alpha = 0.1\n",
    "ns = np.array(\n",
    "    [200, 400, 800, 1500, 3000]\n",
    ")  # Test for different numbers of labels\n",
    "num_trials = 100\n",
    "\n",
    "# Split into two subgroups for odds ratio calculation\n",
    "Y0_total, Y1_total = Y_total[~Z], Y_total[Z]\n",
    "Yhat0_total, Yhat1_total = Yhat_total[~Z], Yhat_total[Z]\n",
    "n0_total = Y0_total.shape[0]\n",
    "n1_total = Y1_total.shape[0]\n",
    "sample_ratio = n0_total / Y_total.shape[0]\n",
    "\n",
    "# True odds ratio\n",
    "mu0 = Y0_total.mean()\n",
    "mu1 = Y1_total.mean()\n",
    "odds_ratio = (mu1 / (1 - mu1)) / (mu0 / (1 - mu0))"
   ]
  },
  {
   "cell_type": "markdown",
   "id": "83ce18be",
   "metadata": {},
   "source": [
    "### Construct intervals\n",
    "\n",
    "Form confidence intervals for all methods and problem parameters. A dataframe with the following columns is formed:\n",
    "1. ```method``` (one of ```PPI```, ```Classical```, and ```Imputation```)\n",
    "2. ```n``` (labeled data set size, takes values in ```ns```)\n",
    "3. ```lower``` (lower endpoint of the confidence interval)\n",
    "4. ```upper``` (upper endpoint of the confidence interval)\n",
    "5. ```trial``` (index of trial, goes from ```0``` to ```num_trials-1```)"
   ]
  },
  {
   "cell_type": "code",
   "execution_count": 4,
   "id": "55c3df32",
   "metadata": {},
   "outputs": [],
   "source": [
    "def odds_ratio_ci(Y0, Yhat0, Yhat0_unlabeled, Y1, Yhat1, Yhat1_unlabeled, alpha, lhat0=None, lhat1=None):\n",
    "    n0 = Y0.shape[0]; N0 = Yhat0_unlabeled.shape[0]\n",
    "    n1 = Y1.shape[0]; N1 = Yhat1_unlabeled.shape[0]\n",
    "    if lhat0 is None:\n",
    "        lhat0 = np.cov(Y0, Yhat0)[1,0]/((1+n0/N0)*np.var(np.concatenate([Yhat0, Yhat0_unlabeled])))\n",
    "    if lhat1 is None:\n",
    "        lhat1 = np.cov(Y1, Yhat1)[1,0]/((1+n1/N1)*np.var(np.concatenate([Yhat1, Yhat1_unlabeled])))\n",
    "    mu0_hat = Y0.mean() + lhat0*(Yhat0_unlabeled.mean() - Yhat0.mean())\n",
    "    mu1_hat = Y1.mean() + lhat1*(Yhat1_unlabeled.mean() - Yhat1.mean())\n",
    "    ppi_pointest_log = np.log(mu1_hat/(1-mu1_hat)) - np.log(mu0_hat/(1-mu0_hat))\n",
    "    var0 = 1/np.var(Y0) + ((lhat0**2) * (1+n0/N0) * np.var(Yhat0))/(np.var(Y0)**2) - (2*lhat0*np.cov(Y0,Yhat0)[1,0])/(np.var(Y0)**2)\n",
    "    var1 = 1/np.var(Y1) + ((lhat1**2) * (1+n1/N1) * np.var(Yhat1))/(np.var(Y1)**2) - (2*lhat1*np.cov(Y1,Yhat1)[1,0])/(np.var(Y1)**2)\n",
    "    p0 = n0/(n0+n1)\n",
    "    p1 = n1/(n0+n1)\n",
    "    var = 1/p0*var0 + 1/p1*var1\n",
    "    hw_log = norm.ppf(1-alpha/2)*np.sqrt(var/(n0+n1))\n",
    "    return np.exp(ppi_pointest_log - hw_log), np.exp(ppi_pointest_log + hw_log)"
   ]
  },
  {
   "cell_type": "code",
   "execution_count": 12,
   "id": "812f8fd5",
   "metadata": {},
   "outputs": [
    {
     "name": "stderr",
     "output_type": "stream",
     "text": [
      "  0%|                                                                                      | 0/5 [00:00<?, ?it/s]/var/folders/nf/9jh22yw56mj181378_s3p7vr0000gn/T/ipykernel_96008/199130766.py:10: RuntimeWarning: invalid value encountered in log\n",
      "  ppi_pointest_log = np.log(mu1_hat/(1-mu1_hat)) - np.log(mu0_hat/(1-mu0_hat))\n",
      "100%|██████████████████████████████████████████████████████████████████████████████| 5/5 [00:00<00:00, 11.34it/s]\n"
     ]
    }
   ],
   "source": [
    "# Run prediction-powered inference and classical inference for many values of n\n",
    "results = []\n",
    "for i in tqdm(range(ns.shape[0])):\n",
    "    for j in range(num_trials):\n",
    "        # Split the data\n",
    "        n = ns[i]\n",
    "        _n0 = int(n * sample_ratio)\n",
    "        _n1 = n - _n0\n",
    "        rand_idx_0 = np.random.permutation(n0_total)\n",
    "        rand_idx_1 = np.random.permutation(n1_total)\n",
    "        _Yhat0 = Yhat0_total[rand_idx_0[:_n0]]\n",
    "        _Y0 = Y0_total[rand_idx_0[:_n0]]\n",
    "        _Yhat0_unlabeled = Yhat0_total[rand_idx_0[_n0:]]\n",
    "        _Yhat1 = Yhat1_total[rand_idx_1[:_n1]]\n",
    "        _Y1 = Y1_total[rand_idx_1[:_n1]]\n",
    "        _Yhat1_unlabeled = Yhat1_total[rand_idx_1[_n1:]]\n",
    "\n",
    "        # PPI\n",
    "        ppi_odds_ratio_ci = odds_ratio_ci(_Y0, _Yhat0, _Yhat0_unlabeled, _Y1, _Yhat1, _Yhat1_unlabeled, alpha)\n",
    "        \n",
    "        # Classical interval\n",
    "        classical_odds_ratio_ci = odds_ratio_ci(_Y0, _Yhat0, _Yhat0_unlabeled, _Y1, _Yhat1, _Yhat1_unlabeled, alpha, lhat0=0, lhat1=0)\n",
    "\n",
    "        # Append results\n",
    "        results += [\n",
    "            pd.DataFrame(\n",
    "                [\n",
    "                    {\n",
    "                        \"method\": \"PPI\",\n",
    "                        \"n\": n,\n",
    "                        \"lower\": ppi_odds_ratio_ci[0],\n",
    "                        \"upper\": ppi_odds_ratio_ci[1],\n",
    "                        \"trial\": j,\n",
    "                    }\n",
    "                ]\n",
    "            )\n",
    "        ]\n",
    "        results += [\n",
    "            pd.DataFrame(\n",
    "                [\n",
    "                    {\n",
    "                        \"method\": \"Classical\",\n",
    "                        \"n\": n,\n",
    "                        \"lower\": classical_odds_ratio_ci[0],\n",
    "                        \"upper\": classical_odds_ratio_ci[1],\n",
    "                        \"trial\": j,\n",
    "                    }\n",
    "                ]\n",
    "            )\n",
    "        ]\n",
    "\n",
    "# Imputed CI\n",
    "_Yhat0_all = (np.concatenate([_Yhat0, _Yhat0_unlabeled], axis=0) > 0.5)\n",
    "_Yhat1_all = (np.concatenate([_Yhat1, _Yhat1_unlabeled], axis=0) > 0.5)\n",
    "imputed_odds_ratio_ci = odds_ratio_ci(_Yhat0_all, _Yhat0_all, _Yhat0_unlabeled, _Yhat1_all, _Yhat1_all, _Yhat1_unlabeled, alpha, lhat0=0, lhat1=0)\n",
    "\n",
    "results += [\n",
    "    pd.DataFrame(\n",
    "        [\n",
    "            {\n",
    "                \"method\": \"Imputation\",\n",
    "                \"n\": np.nan,\n",
    "                \"lower\": imputed_odds_ratio_ci[0],\n",
    "                \"upper\": imputed_odds_ratio_ci[1],\n",
    "                \"trial\": 0,\n",
    "            }\n",
    "        ]\n",
    "    )\n",
    "]\n",
    "\n",
    "df = pd.concat(results, axis=0, ignore_index=True)\n",
    "df[\"width\"] = df[\"upper\"] - df[\"lower\"]"
   ]
  },
  {
   "cell_type": "markdown",
   "id": "d15ba288",
   "metadata": {},
   "source": [
    "### Plot results\n",
    "\n",
    "Plot:\n",
    "1. Five randomly chosen intervals from the dataframe for PPI and the classical method, and the imputed interval;\n",
    "2. The average interval width for PPI and the classical method, together with a scatterplot of the widths from the five random draws."
   ]
  },
  {
   "cell_type": "code",
   "execution_count": 13,
   "id": "6077b2c4",
   "metadata": {},
   "outputs": [
    {
     "data": {
      "image/png": "[encoded data removed]",
      "text/plain": [
       "<Figure size 648x216 with 3 Axes>"
      ]
     },
     "metadata": {},
     "output_type": "display_data"
    }
   ],
   "source": [
    "make_plots(\n",
    "    df,\n",
    "    \"./plots/alphafold.pdf\",\n",
    "    intervals_xlabel=\"Odds ratio\",\n",
    "    n_idx=1,\n",
    "    true_theta=odds_ratio,\n",
    ")"
   ]
  },
  {
   "cell_type": "markdown",
   "id": "3f64a99d-50cb-4558-a428-8e963e52e10a",
   "metadata": {},
   "source": [
    "### Power experiment\n",
    "\n",
    "For PPI and the classical approach, find the smallest value of ```n``` such that the method has power 80% against the null $H_0: \\text{odds ratio} \\leq 1$."
   ]
  },
  {
   "cell_type": "code",
   "execution_count": 14,
   "id": "16539419",
   "metadata": {},
   "outputs": [],
   "source": [
    "# Find n such that we reject H0: odds ratio <= 1 with probability 80% using a test at level alpha\n",
    "num_experiments = 100\n",
    "list_rand_idx_0 = [\n",
    "    np.random.permutation(n0_total) for i in range(num_experiments)\n",
    "]\n",
    "list_rand_idx_1 = [\n",
    "    np.random.permutation(n1_total) for i in range(num_experiments)\n",
    "]\n",
    "\n",
    "alpha_pval = 0.05\n",
    "\n",
    "\n",
    "def _to_invert_ppi(n):\n",
    "    n = int(n)\n",
    "    nulls_rejected = 0\n",
    "    # Data setup\n",
    "    for i in range(num_experiments):\n",
    "        _n0 = int(n * sample_ratio)\n",
    "        _n1 = n - _n0\n",
    "        rand_idx_0 = list_rand_idx_0[i]\n",
    "        rand_idx_1 = list_rand_idx_1[i]\n",
    "        _Yhat0 = Yhat0_total[rand_idx_0[:_n0]]\n",
    "        _Y0 = Y0_total[rand_idx_0[:_n0]]\n",
    "        _Yhat0_unlabeled = Yhat0_total[rand_idx_0[_n0:]]\n",
    "        _Yhat1 = Yhat1_total[rand_idx_1[:_n1]]\n",
    "        _Y1 = Y1_total[rand_idx_1[:_n1]]\n",
    "        _Yhat1_unlabeled = Yhat1_total[rand_idx_1[_n1:]]\n",
    "\n",
    "        # PPI\n",
    "        ppi_odds_ratio_ci = odds_ratio_ci(_Y0, _Yhat0, _Yhat0_unlabeled, _Y1, _Yhat1, _Yhat1_unlabeled, alpha)\n",
    "        if ppi_odds_ratio_ci[0] > 1:\n",
    "            nulls_rejected += 1\n",
    "    return nulls_rejected / num_experiments - 0.8\n",
    "\n",
    "\n",
    "def _to_invert_classical(n):\n",
    "    n = int(n)\n",
    "    nulls_rejected = 0\n",
    "    # Data setup\n",
    "    for i in range(num_experiments):\n",
    "        _n0 = int(n * sample_ratio)\n",
    "        _n1 = n - _n0\n",
    "        rand_idx_0 = list_rand_idx_0[i]\n",
    "        rand_idx_1 = list_rand_idx_1[i]\n",
    "        _Yhat0 = Yhat0_total[rand_idx_0[:_n0]]\n",
    "        _Y0 = Y0_total[rand_idx_0[:_n0]]\n",
    "        _Yhat0_unlabeled = Yhat0_total[rand_idx_0[_n0:]]\n",
    "        _Yhat1 = Yhat1_total[rand_idx_1[:_n1]]\n",
    "        _Y1 = Y1_total[rand_idx_1[:_n1]]\n",
    "        _Yhat1_unlabeled = Yhat1_total[rand_idx_1[_n1:]]\n",
    "\n",
    "        # Classical interval\n",
    "        classical_odds_ratio_ci = odds_ratio_ci(_Y0, _Yhat0, _Yhat0_unlabeled, _Y1, _Yhat1, _Yhat1_unlabeled, alpha, lhat0=0, lhat1=0)\n",
    "        if classical_odds_ratio_ci[0] > 1:\n",
    "            nulls_rejected += 1\n",
    "    return nulls_rejected / num_experiments - 0.8"
   ]
  },
  {
   "cell_type": "code",
   "execution_count": 15,
   "id": "928997ef",
   "metadata": {},
   "outputs": [
    {
     "name": "stderr",
     "output_type": "stream",
     "text": [
      "/var/folders/nf/9jh22yw56mj181378_s3p7vr0000gn/T/ipykernel_96008/199130766.py:10: RuntimeWarning: divide by zero encountered in log\n",
      "  ppi_pointest_log = np.log(mu1_hat/(1-mu1_hat)) - np.log(mu0_hat/(1-mu0_hat))\n",
      "/var/folders/nf/9jh22yw56mj181378_s3p7vr0000gn/T/ipykernel_96008/199130766.py:11: RuntimeWarning: divide by zero encountered in scalar divide\n",
      "  var0 = 1/np.var(Y0) + ((lhat0**2) * (1+n0/N0) * np.var(Yhat0))/(np.var(Y0)**2) - (2*lhat0*np.cov(Y0,Yhat0)[1,0])/(np.var(Y0)**2)\n",
      "/var/folders/nf/9jh22yw56mj181378_s3p7vr0000gn/T/ipykernel_96008/199130766.py:11: RuntimeWarning: invalid value encountered in scalar divide\n",
      "  var0 = 1/np.var(Y0) + ((lhat0**2) * (1+n0/N0) * np.var(Yhat0))/(np.var(Y0)**2) - (2*lhat0*np.cov(Y0,Yhat0)[1,0])/(np.var(Y0)**2)\n",
      "/var/folders/nf/9jh22yw56mj181378_s3p7vr0000gn/T/ipykernel_96008/199130766.py:10: RuntimeWarning: invalid value encountered in log\n",
      "  ppi_pointest_log = np.log(mu1_hat/(1-mu1_hat)) - np.log(mu0_hat/(1-mu0_hat))\n",
      "/var/folders/nf/9jh22yw56mj181378_s3p7vr0000gn/T/ipykernel_96008/199130766.py:10: RuntimeWarning: invalid value encountered in scalar subtract\n",
      "  ppi_pointest_log = np.log(mu1_hat/(1-mu1_hat)) - np.log(mu0_hat/(1-mu0_hat))\n",
      "/var/folders/nf/9jh22yw56mj181378_s3p7vr0000gn/T/ipykernel_96008/199130766.py:12: RuntimeWarning: divide by zero encountered in scalar divide\n",
      "  var1 = 1/np.var(Y1) + ((lhat1**2) * (1+n1/N1) * np.var(Yhat1))/(np.var(Y1)**2) - (2*lhat1*np.cov(Y1,Yhat1)[1,0])/(np.var(Y1)**2)\n",
      "/var/folders/nf/9jh22yw56mj181378_s3p7vr0000gn/T/ipykernel_96008/199130766.py:12: RuntimeWarning: invalid value encountered in scalar divide\n",
      "  var1 = 1/np.var(Y1) + ((lhat1**2) * (1+n1/N1) * np.var(Yhat1))/(np.var(Y1)**2) - (2*lhat1*np.cov(Y1,Yhat1)[1,0])/(np.var(Y1)**2)\n",
      "/var/folders/nf/9jh22yw56mj181378_s3p7vr0000gn/T/ipykernel_96008/199130766.py:16: RuntimeWarning: invalid value encountered in sqrt\n",
      "  hw_log = norm.ppf(1-alpha/2)*np.sqrt(var/(n0+n1))\n"
     ]
    },
    {
     "name": "stdout",
     "output_type": "stream",
     "text": [
      "The PPI test requires n=155 labeled data points to reject the null.\n",
      "The classical test requires n=309 labeled data points to reject the null.\n"
     ]
    }
   ],
   "source": [
    "n_ppi = int(brentq(_to_invert_ppi, 10, 3000, xtol=1))\n",
    "n_classical = int(brentq(_to_invert_classical, 10, 3000, xtol=1))\n",
    "print(\n",
    "    f\"The PPI test requires n={n_ppi} labeled data points to reject the null.\"\n",
    ")\n",
    "print(\n",
    "    f\"The classical test requires n={n_classical} labeled data points to reject the null.\"\n",
    ")"
   ]
  }
 ],
 "metadata": {
  "kernelspec": {
   "display_name": "Python 3 (ipykernel)",
   "language": "python",
   "name": "python3"
  },
  "language_info": {
   "codemirror_mode": {
    "name": "ipython",
    "version": 3
   },
   "file_extension": ".py",
   "mimetype": "text/x-python",
   "name": "python",
   "nbconvert_exporter": "python",
   "pygments_lexer": "ipython3",
   "version": "3.9.12"
  }
 },
 "nbformat": 4,
 "nbformat_minor": 5
}
