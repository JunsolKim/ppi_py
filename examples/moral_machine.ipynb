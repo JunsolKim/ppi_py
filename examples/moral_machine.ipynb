{
 "cells": [
  {
   "cell_type": "markdown",
   "metadata": {},
   "source": [
    "# Moral Machine Experiment with LLMs and PPI\n",
    "\n",
    "Prior work shows that LLMs can make serious errors when predicting human behavior. How can we draw valid, precise, and cost-effective inferences from LLMs on causal effects (and other parameters)? Broska, Howes, and van Loon (1) propose using human subjects as a gold standard to adjust inaccurate estimates based on LLMs with PPI. \n",
    "\n",
    "The authors add two extensions for PPI implemented in the PPI Python library. \n",
    "- The PPI correlation $\\tilde \\rho$ measures the *interchangeability* of gold-standard data (observed human behavior) and predictions (LLM predicted behavior). Values closer to 1 mean that an estimate based on predictions is close to an estimate obtained from observations.\n",
    "- If predictions and observations are not interchangeable (PPI correlation<1), their power analysis resolves a trade-off. Researchers can optimally choose between recruiting informative but costly human subjects or obtaining less informative but cheap predictions of human behavior.\n",
    "\n",
    "In the Moral Machine Experiment, a sudden brake failure in an autonomous vehicle forced a decision between harming passengers or pedestrians. LLMs were prompted to predict which group the survey respondents chose to spare. \n",
    "\n",
    "1. Broska D, Howes M, van Loon A. The Mixed Subjects Design: Treating Large Language Models as (Potentially) Informative Observations [Internet]. OSF; 2024 [cited 2024 Aug 29]. Available from: https://osf.io/j3bnt\n",
    "2. Awad E, Dsouza S, Kim R, Schulz J, Henrich J, Shariff A, et al. The Moral Machine experiment. Nature. 2018 Nov;563(7729):59–64. \n",
    "\n"
   ]
  },
  {
   "cell_type": "code",
   "execution_count": 4,
   "metadata": {},
   "outputs": [
    {
     "name": "stdout",
     "output_type": "stream",
     "text": [
      "The autoreload extension is already loaded. To reload it, use:\n",
      "  %reload_ext autoreload\n"
     ]
    },
    {
     "data": {
      "text/plain": [
       "'3.11.4 (v3.11.4:d2340ef257, Jun  6 2023, 19:15:51) [Clang 13.0.0 (clang-1300.0.29.30)]'"
      ]
     },
     "execution_count": 4,
     "metadata": {},
     "output_type": "execute_result"
    }
   ],
   "source": [
    "%load_ext autoreload\n",
    "%autoreload 2\n",
    "import os, sys\n",
    "import pandas as pd\n",
    "import random\n",
    "from utils import compute_amce_ppi\n",
    "\n",
    "df = pd.read_csv(\"5_SurveySampleLLM_ppipy.csv.gz\")\n",
    "\n",
    "Covs = ['PedPed', 'Barrier', 'CrossingSignal', 'NumberOfCharacters',\n",
    "        'DiffNumberOFCharacters', 'LeftHand', 'Man', 'Woman', 'Pregnant',\n",
    "        'Stroller', 'OldMan', 'OldWoman', 'Boy', 'Girl', 'Homeless',\n",
    "        'LargeWoman', 'LargeMan', 'Criminal', 'MaleExecutive',\n",
    "        'FemaleExecutive', 'FemaleAthlete', 'MaleAthlete', 'FemaleDoctor',\n",
    "        'MaleDoctor', 'Dog', 'Cat', \n",
    "        'Intervention'\n",
    "        ]\n",
    "\n",
    "sys.version"
   ]
  },
  {
   "cell_type": "markdown",
   "metadata": {},
   "source": [
    "# Findings"
   ]
  },
  {
   "cell_type": "markdown",
   "metadata": {},
   "source": [
    "For this particular experiment, the researchers found that GPT4's predictions of decisions to moral dilemmas are mostly not interchangeable with observed decisions from survey respondents (PPI correlation < 0.36)"
   ]
  },
  {
   "cell_type": "code",
   "execution_count": 5,
   "metadata": {},
   "outputs": [
    {
     "name": "stdout",
     "output_type": "stream",
     "text": [
      "Number of respondents:  2097\n",
      "Number of decisions:  22315\n",
      "Number of NAs in observed dependent variable:  0\n",
      "Number of NAs in predicted dependent variable with GPT4 Turbo:  0\n"
     ]
    }
   ],
   "source": [
    "# basic statistics\n",
    "print(\"Number of respondents: \", len(df[\"UserID\"].unique()))\n",
    "print(\"Number of decisions: \", len(df[\"ResponseID\"].unique()))\n",
    "print(\"Number of NAs in observed dependent variable: \", df[\"Saved\"].isna().sum())\n",
    "print(\"Number of NAs in predicted dependent variable with GPT4 Turbo: \", df[\"gpt4turbo_wp_Saved\"].isna().sum())"
   ]
  },
  {
   "cell_type": "code",
   "execution_count": 6,
   "metadata": {},
   "outputs": [
    {
     "name": "stderr",
     "output_type": "stream",
     "text": [
      "/Users/davidbroska/Library/Mobile Documents/com~apple~CloudDocs/Research Projects/ppi_py/examples/utils.py:300: SettingWithCopyWarning: \n",
      "A value is trying to be set on a copy of a slice from a DataFrame.\n",
      "Try using .loc[row_indexer,col_indexer] = value instead\n",
      "\n",
      "See the caveats in the documentation: https://pandas.pydata.org/pandas-docs/stable/user_guide/indexing.html#returning-a-view-versus-a-copy\n",
      "  n_data.loc[:,\"weights\"] = calcWeightsTheoretical(n_data)\n",
      "/Users/davidbroska/Library/Mobile Documents/com~apple~CloudDocs/Research Projects/ppi_py/examples/utils.py:301: SettingWithCopyWarning: \n",
      "A value is trying to be set on a copy of a slice from a DataFrame.\n",
      "Try using .loc[row_indexer,col_indexer] = value instead\n",
      "\n",
      "See the caveats in the documentation: https://pandas.pydata.org/pandas-docs/stable/user_guide/indexing.html#returning-a-view-versus-a-copy\n",
      "  N_data.loc[:,\"weights\"] = calcWeightsTheoretical(N_data)\n"
     ]
    },
    {
     "data": {
      "text/html": [
       "<div>\n",
       "<style scoped>\n",
       "    .dataframe tbody tr th:only-of-type {\n",
       "        vertical-align: middle;\n",
       "    }\n",
       "\n",
       "    .dataframe tbody tr th {\n",
       "        vertical-align: top;\n",
       "    }\n",
       "\n",
       "    .dataframe thead th {\n",
       "        text-align: right;\n",
       "    }\n",
       "</style>\n",
       "<table border=\"1\" class=\"dataframe\">\n",
       "  <thead>\n",
       "    <tr style=\"text-align: right;\">\n",
       "      <th></th>\n",
       "      <th>y</th>\n",
       "      <th>x</th>\n",
       "      <th>pointest_ppi</th>\n",
       "      <th>conf_low_ppi</th>\n",
       "      <th>conf_high_ppi</th>\n",
       "      <th>conf_low_ols</th>\n",
       "      <th>conf_high_ols</th>\n",
       "    </tr>\n",
       "  </thead>\n",
       "  <tbody>\n",
       "    <tr>\n",
       "      <th>0</th>\n",
       "      <td>gpt4turbo_wp_Saved</td>\n",
       "      <td>Intervention</td>\n",
       "      <td>0.069295</td>\n",
       "      <td>0.020979</td>\n",
       "      <td>0.117609</td>\n",
       "      <td>0.019069</td>\n",
       "      <td>0.122593</td>\n",
       "    </tr>\n",
       "    <tr>\n",
       "      <th>1</th>\n",
       "      <td>gpt4turbo_wp_Saved</td>\n",
       "      <td>Barrier</td>\n",
       "      <td>0.198380</td>\n",
       "      <td>0.128527</td>\n",
       "      <td>0.268477</td>\n",
       "      <td>0.138501</td>\n",
       "      <td>0.286847</td>\n",
       "    </tr>\n",
       "    <tr>\n",
       "      <th>2</th>\n",
       "      <td>gpt4turbo_wp_Saved</td>\n",
       "      <td>Gender</td>\n",
       "      <td>0.165286</td>\n",
       "      <td>0.045793</td>\n",
       "      <td>0.284644</td>\n",
       "      <td>0.053363</td>\n",
       "      <td>0.299231</td>\n",
       "    </tr>\n",
       "    <tr>\n",
       "      <th>3</th>\n",
       "      <td>gpt4turbo_wp_Saved</td>\n",
       "      <td>Fitness</td>\n",
       "      <td>0.101790</td>\n",
       "      <td>-0.022217</td>\n",
       "      <td>0.225559</td>\n",
       "      <td>-0.032351</td>\n",
       "      <td>0.223446</td>\n",
       "    </tr>\n",
       "    <tr>\n",
       "      <th>4</th>\n",
       "      <td>gpt4turbo_wp_Saved</td>\n",
       "      <td>Social Status</td>\n",
       "      <td>0.265848</td>\n",
       "      <td>-0.027067</td>\n",
       "      <td>0.560427</td>\n",
       "      <td>-0.052970</td>\n",
       "      <td>0.657442</td>\n",
       "    </tr>\n",
       "    <tr>\n",
       "      <th>5</th>\n",
       "      <td>gpt4turbo_wp_Saved</td>\n",
       "      <td>CrossingSignal</td>\n",
       "      <td>0.267833</td>\n",
       "      <td>0.174990</td>\n",
       "      <td>0.360669</td>\n",
       "      <td>0.168602</td>\n",
       "      <td>0.357392</td>\n",
       "    </tr>\n",
       "    <tr>\n",
       "      <th>6</th>\n",
       "      <td>gpt4turbo_wp_Saved</td>\n",
       "      <td>Age</td>\n",
       "      <td>0.445832</td>\n",
       "      <td>0.332806</td>\n",
       "      <td>0.554985</td>\n",
       "      <td>0.304900</td>\n",
       "      <td>0.534370</td>\n",
       "    </tr>\n",
       "    <tr>\n",
       "      <th>7</th>\n",
       "      <td>gpt4turbo_wp_Saved</td>\n",
       "      <td>Utilitarian</td>\n",
       "      <td>0.597802</td>\n",
       "      <td>0.503678</td>\n",
       "      <td>0.691509</td>\n",
       "      <td>0.508236</td>\n",
       "      <td>0.697773</td>\n",
       "    </tr>\n",
       "    <tr>\n",
       "      <th>8</th>\n",
       "      <td>gpt4turbo_wp_Saved</td>\n",
       "      <td>Species</td>\n",
       "      <td>0.578773</td>\n",
       "      <td>0.482628</td>\n",
       "      <td>0.674918</td>\n",
       "      <td>0.482753</td>\n",
       "      <td>0.674793</td>\n",
       "    </tr>\n",
       "  </tbody>\n",
       "</table>\n",
       "</div>"
      ],
      "text/plain": [
       "                    y               x  pointest_ppi  conf_low_ppi  \\\n",
       "0  gpt4turbo_wp_Saved    Intervention      0.069295      0.020979   \n",
       "1  gpt4turbo_wp_Saved         Barrier      0.198380      0.128527   \n",
       "2  gpt4turbo_wp_Saved          Gender      0.165286      0.045793   \n",
       "3  gpt4turbo_wp_Saved         Fitness      0.101790     -0.022217   \n",
       "4  gpt4turbo_wp_Saved   Social Status      0.265848     -0.027067   \n",
       "5  gpt4turbo_wp_Saved  CrossingSignal      0.267833      0.174990   \n",
       "6  gpt4turbo_wp_Saved             Age      0.445832      0.332806   \n",
       "7  gpt4turbo_wp_Saved     Utilitarian      0.597802      0.503678   \n",
       "8  gpt4turbo_wp_Saved         Species      0.578773      0.482628   \n",
       "\n",
       "   conf_high_ppi  conf_low_ols  conf_high_ols  \n",
       "0       0.117609      0.019069       0.122593  \n",
       "1       0.268477      0.138501       0.286847  \n",
       "2       0.284644      0.053363       0.299231  \n",
       "3       0.225559     -0.032351       0.223446  \n",
       "4       0.560427     -0.052970       0.657442  \n",
       "5       0.360669      0.168602       0.357392  \n",
       "6       0.554985      0.304900       0.534370  \n",
       "7       0.691509      0.508236       0.697773  \n",
       "8       0.674918      0.482753       0.674793  "
      ]
     },
     "execution_count": 6,
     "metadata": {},
     "output_type": "execute_result"
    }
   ],
   "source": [
    "ids = df[\"ResponseID\"].unique()\n",
    "n = 1000\n",
    "N = len(ids) - n\n",
    "random.seed(2025)\n",
    "\n",
    "n_ids = random.sample(ids.tolist(), k=n)\n",
    "N_ids = random.sample(list(set(ids) - set(n_ids)), k=N)\n",
    "\n",
    "df_human = df[ df[\"ResponseID\"].isin(n_ids) ]\n",
    "df_silicon = df [ df[\"ResponseID\"].isin(N_ids)]\n",
    "\n",
    "# predicted dependent variable\n",
    "y = \"gpt4turbo_wp_Saved\"\n",
    "\n",
    "results = pd.concat([\n",
    "    compute_amce_ppi(df_human, df_silicon, x=\"Intervention\", y=y), \n",
    "    compute_amce_ppi(df_human, df_silicon, x=\"Barrier\", y=y), \n",
    "    compute_amce_ppi(df_human, df_silicon, x=\"Gender\", y=y), \n",
    "    compute_amce_ppi(df_human, df_silicon, x=\"Fitness\", y=y), \n",
    "    compute_amce_ppi(df_human, df_silicon, x=\"Social Status\", y=y), \n",
    "    compute_amce_ppi(df_human, df_silicon, x=\"CrossingSignal\",y=y),\n",
    "    compute_amce_ppi(df_human, df_silicon, x=\"Age\", y=y),\n",
    "    compute_amce_ppi(df_human, df_silicon, x=\"Utilitarian\", y=y),\n",
    "    compute_amce_ppi(df_human, df_silicon, x=\"Species\", y=y)\n",
    "    ],ignore_index=True)\n",
    "\n",
    "results"
   ]
  },
  {
   "cell_type": "markdown",
   "metadata": {},
   "source": [
    "# Conclusions\n",
    "- The silicon sampling design may or may not produce valid point estimates but this is impossible to ascertain without validation on human subjects. PPI automatically handles this validation through a statistical correction to the point estimates derived from LLM predictions.\n",
    "\n",
    "- Mixed subjects designs––with methods such as PPI––could enhance scientific productivity and reduce inequality in access to costly evidence on research questions by offering valid, precise, and cost-effective inferences on causal effects and other parameters.\n",
    "\n",
    "- If LLMs and other algorithms become more capable of predicting human behavior in the future (higher PPI correlation), the cost of obtaining precise estimates with mixed subjects designs will further decrease relative to human subjects experiments.\n"
   ]
  }
 ],
 "metadata": {
  "kernelspec": {
   "display_name": "Python 3",
   "language": "python",
   "name": "python3"
  },
  "language_info": {
   "codemirror_mode": {
    "name": "ipython",
    "version": 3
   },
   "file_extension": ".py",
   "mimetype": "text/x-python",
   "name": "python",
   "nbconvert_exporter": "python",
   "pygments_lexer": "ipython3",
   "version": "3.11.4"
  }
 },
 "nbformat": 4,
 "nbformat_minor": 2
}
