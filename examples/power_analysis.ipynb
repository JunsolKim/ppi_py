{
 "cells": [
  {
   "cell_type": "markdown",
   "metadata": {},
   "source": [
    "# PPI power analysis\n",
    "\n"
   ]
  },
  {
   "cell_type": "code",
   "execution_count": 188,
   "metadata": {},
   "outputs": [],
   "source": [
    "%reload_ext autoreload\n",
    "%autoreload 2"
   ]
  },
  {
   "cell_type": "code",
   "execution_count": 189,
   "metadata": {},
   "outputs": [],
   "source": [
    "import os, sys\n",
    "\n",
    "sys.path.append(os.path.abspath(os.path.join(os.getcwd(), os.pardir)))\n",
    "import numpy as np\n",
    "import pandas as pd\n",
    "import matplotlib.pyplot as plt\n",
    "from ppi_py.datasets import load_dataset\n",
    "from ppi_py.power_ppi import ppi_power, ppi_mean_power, ppi_ols_power, ppi_poisson_power\n",
    "from ppi_py.ppi import ppi_mean_ci, ppi_ols_ci, ppi_poisson_ci\n",
    "from tqdm import tqdm\n",
    "from scipy.optimize import brentq\n",
    "from scipy.stats import norm\n",
    "from utils import *"
   ]
  },
  {
   "cell_type": "markdown",
   "metadata": {},
   "source": [
    "## Power analysis with known $\\tilde{\\rho}$\n",
    "\n",
    "The function `ppi_power` computes an optimal pair of sample sizes given the PPI-correlation $\\tilde{\\rho}$ and the costs of $Y$, $f(X)$ and $X$. The output is a Pandas array."
   ]
  },
  {
   "cell_type": "code",
   "execution_count": 231,
   "metadata": {},
   "outputs": [
    {
     "data": {
      "text/html": [
       "<div>\n",
       "<style scoped>\n",
       "    .dataframe tbody tr th:only-of-type {\n",
       "        vertical-align: middle;\n",
       "    }\n",
       "\n",
       "    .dataframe tbody tr th {\n",
       "        vertical-align: top;\n",
       "    }\n",
       "\n",
       "    .dataframe thead th {\n",
       "        text-align: right;\n",
       "    }\n",
       "</style>\n",
       "<table border=\"1\" class=\"dataframe\">\n",
       "  <thead>\n",
       "    <tr style=\"text-align: right;\">\n",
       "      <th></th>\n",
       "      <th>n</th>\n",
       "      <th>N</th>\n",
       "      <th>cost</th>\n",
       "      <th>se</th>\n",
       "      <th>sigma_sq</th>\n",
       "      <th>rho</th>\n",
       "    </tr>\n",
       "  </thead>\n",
       "  <tbody>\n",
       "    <tr>\n",
       "      <th>0</th>\n",
       "      <td>604</td>\n",
       "      <td>12406</td>\n",
       "      <td>864.2</td>\n",
       "      <td>0.015192</td>\n",
       "      <td>1</td>\n",
       "      <td>0.95</td>\n",
       "    </tr>\n",
       "  </tbody>\n",
       "</table>\n",
       "</div>"
      ],
      "text/plain": [
       "     n      N   cost        se  sigma_sq   rho\n",
       "0  604  12406  864.2  0.015192         1  0.95"
      ]
     },
     "execution_count": 231,
     "metadata": {},
     "output_type": "execute_result"
    }
   ],
   "source": [
    "rho = 0.95\n",
    "sigma_sq = 1\n",
    "cost_Y = 1\n",
    "cost_Yhat = 0.01\n",
    "cost_X = 0.01\n",
    "\n",
    "budget = 865\n",
    "\n",
    "optimal_pair = ppi_power(sigma_sq, rho, cost_Y, cost_Yhat, cost_X, budget = budget)\n",
    "optimal_pair"
   ]
  },
  {
   "cell_type": "markdown",
   "metadata": {},
   "source": [
    "The following visualization shows that the computed pair is indeed optimal."
   ]
  },
  {
   "cell_type": "code",
   "execution_count": 232,
   "metadata": {},
   "outputs": [
    {
     "data": {
      "image/png": "[encoded data removed]",
      "text/plain": [
       "<Figure size 640x480 with 1 Axes>"
      ]
     },
     "metadata": {},
     "output_type": "display_data"
    }
   ],
   "source": [
    "n = np.arange(400, 1000)\n",
    "N = np.arange(10000, 15000)\n",
    "ns, Ns = np.meshgrid(n, N)\n",
    "ppi_se = np.sqrt(sigma_sq/ns * (1 - Ns/(Ns+ns)*rho**2))\n",
    "plt.contourf(Ns, ns, ppi_se)\n",
    "n_cost = (budget - N*(cost_X + cost_Yhat))/(cost_X + cost_Y + cost_Yhat)\n",
    "plt.plot(N, n_cost, \"k--\", label = \"budget\")\n",
    "\n",
    "n_opt = optimal_pair['n']\n",
    "N_opt = optimal_pair['N']\n",
    "\n",
    "plt.plot(N_opt, n_opt, 'rx')\n",
    "plt.legend()\n",
    "plt.show()"
   ]
  },
  {
   "cell_type": "markdown",
   "metadata": {},
   "source": [
    "## Power analysis for the mean\n",
    "\n",
    "In general $\\tilde{\\rho}$ and $\\sigma^2$ have to be estimated from data. The functions `ppi_<estimator>_power` estimate these parameters for different PPI estimators and then compute the optimal pair. \n",
    "\n",
    "The following example performs a power analysis for estimating the mean using the `ballots` dataset from *Angelopoulos et al (2023)*. A random subsample of $n=500$ labeled points and $N=500$ unlabeled points is used to estimate $\\tilde{\\rho}$ and $\\sigma^2$. The output is again a pandas dataframe showing the most powerful pair within the given budget."
   ]
  },
  {
   "cell_type": "code",
   "execution_count": 233,
   "metadata": {},
   "outputs": [
    {
     "data": {
      "text/html": [
       "<div>\n",
       "<style scoped>\n",
       "    .dataframe tbody tr th:only-of-type {\n",
       "        vertical-align: middle;\n",
       "    }\n",
       "\n",
       "    .dataframe tbody tr th {\n",
       "        vertical-align: top;\n",
       "    }\n",
       "\n",
       "    .dataframe thead th {\n",
       "        text-align: right;\n",
       "    }\n",
       "</style>\n",
       "<table border=\"1\" class=\"dataframe\">\n",
       "  <thead>\n",
       "    <tr style=\"text-align: right;\">\n",
       "      <th></th>\n",
       "      <th>n</th>\n",
       "      <th>N</th>\n",
       "      <th>cost</th>\n",
       "      <th>se</th>\n",
       "      <th>sigma_sq</th>\n",
       "      <th>rho</th>\n",
       "    </tr>\n",
       "  </thead>\n",
       "  <tbody>\n",
       "    <tr>\n",
       "      <th>0</th>\n",
       "      <td>651</td>\n",
       "      <td>34223</td>\n",
       "      <td>999.74</td>\n",
       "      <td>0.004356</td>\n",
       "      <td>0.238764</td>\n",
       "      <td>0.983006</td>\n",
       "    </tr>\n",
       "  </tbody>\n",
       "</table>\n",
       "</div>"
      ],
      "text/plain": [
       "     n      N    cost        se  sigma_sq       rho\n",
       "0  651  34223  999.74  0.004356  0.238764  0.983006"
      ]
     },
     "execution_count": 233,
     "metadata": {},
     "output_type": "execute_result"
    }
   ],
   "source": [
    "dataset_folder = \"./data/\"\n",
    "data = load_dataset(dataset_folder, \"ballots\")\n",
    "Y = data[\"Y\"]\n",
    "Yhat = data[\"Yhat\"]\n",
    "Yhat_unlabeled = data[\"Yhat_unlabeled\"]\n",
    "\n",
    "n = Y.shape[0]\n",
    "N = Yhat_unlabeled.shape[0]\n",
    "\n",
    "n_initial = 500\n",
    "N_initial = 500\n",
    "\n",
    "labeled_initial = np.random.choice(n, n_initial, replace = False)\n",
    "unlabeled_initial = np.random.choice(N, N_initial, replace = False)\n",
    "\n",
    "Y_initial = Y[labeled_initial]\n",
    "Yhat_initial = Yhat[labeled_initial]\n",
    "Yhat_unlabeled_initial = Yhat_unlabeled[unlabeled_initial]\n",
    "cost_Y = 1\n",
    "cost_Yhat = 0.01\n",
    "\n",
    "most_powerful_pair = ppi_mean_power(Y_initial, Yhat_initial, Yhat_unlabeled_initial, cost_Y, cost_Yhat, budget = 1000)\n",
    "most_powerful_pair"
   ]
  },
  {
   "cell_type": "markdown",
   "metadata": {},
   "source": [
    "The functions `ppi_<estimator>_power` can also be used to compute the cheapest pair achieving a desired standard error."
   ]
  },
  {
   "cell_type": "code",
   "execution_count": 234,
   "metadata": {},
   "outputs": [
    {
     "data": {
      "text/html": [
       "<div>\n",
       "<style scoped>\n",
       "    .dataframe tbody tr th:only-of-type {\n",
       "        vertical-align: middle;\n",
       "    }\n",
       "\n",
       "    .dataframe tbody tr th {\n",
       "        vertical-align: top;\n",
       "    }\n",
       "\n",
       "    .dataframe thead th {\n",
       "        text-align: right;\n",
       "    }\n",
       "</style>\n",
       "<table border=\"1\" class=\"dataframe\">\n",
       "  <thead>\n",
       "    <tr style=\"text-align: right;\">\n",
       "      <th></th>\n",
       "      <th>n</th>\n",
       "      <th>N</th>\n",
       "      <th>cost</th>\n",
       "      <th>se</th>\n",
       "      <th>sigma_sq</th>\n",
       "      <th>rho</th>\n",
       "    </tr>\n",
       "  </thead>\n",
       "  <tbody>\n",
       "    <tr>\n",
       "      <th>0</th>\n",
       "      <td>12354</td>\n",
       "      <td>649216</td>\n",
       "      <td>18969.7</td>\n",
       "      <td>0.001</td>\n",
       "      <td>0.238764</td>\n",
       "      <td>0.983006</td>\n",
       "    </tr>\n",
       "  </tbody>\n",
       "</table>\n",
       "</div>"
      ],
      "text/plain": [
       "       n       N     cost     se  sigma_sq       rho\n",
       "0  12354  649216  18969.7  0.001  0.238764  0.983006"
      ]
     },
     "execution_count": 234,
     "metadata": {},
     "output_type": "execute_result"
    }
   ],
   "source": [
    "se = 0.001\n",
    "cheapest_pair = ppi_mean_power(Y_initial, Yhat_initial, Yhat_unlabeled_initial, cost_Y, cost_Yhat, se =  se)\n",
    "cheapest_pair"
   ]
  },
  {
   "cell_type": "markdown",
   "metadata": {},
   "source": [
    "The data driven power analysis is subject to estimation error in $\\tilde{\\rho}$ and $\\sigma^2$. To illustrate this, we take the sample sizes from `most_powerful_pair` and generate multiple samples of the given size. We run PPI on each sample and compute the standard error. The histogram compares the estimated standard error to the observed standard errors."
   ]
  },
  {
   "cell_type": "code",
   "execution_count": 235,
   "metadata": {},
   "outputs": [],
   "source": [
    "n_opt = most_powerful_pair['n'][0]\n",
    "N_opt = most_powerful_pair['N'][0]\n",
    "\n",
    "n = Y.shape[0]\n",
    "N = Yhat_unlabeled.shape[0]\n",
    "reps = 200 \n",
    "ses = np.zeros(reps)\n",
    "for i in range(reps):\n",
    "    labeled_sample = np.random.choice(n, n_opt, replace = False)\n",
    "    unlabeled_sample = np.random.choice(N, N_opt, replace = False)\n",
    "\n",
    "    Y_opt = Y[labeled_sample]\n",
    "    Yhat_opt = Yhat[labeled_sample]\n",
    "    Yhat_unlabeled_opt = Yhat_unlabeled[unlabeled_sample]\n",
    "    CI = ppi_mean_ci(Y_opt, Yhat_opt, Yhat_unlabeled_opt, alpha = 0.05)\n",
    "    ses[i] = (CI[1][0] - CI[0][0])/norm.ppf(1 - 0.05/2)/2"
   ]
  },
  {
   "cell_type": "code",
   "execution_count": 240,
   "metadata": {},
   "outputs": [
    {
     "data": {
      "image/png": "[encoded data removed]",
      "text/plain": [
       "<Figure size 640x480 with 1 Axes>"
      ]
     },
     "metadata": {},
     "output_type": "display_data"
    }
   ],
   "source": [
    "plt.hist(ses, bins = 11)\n",
    "plt.axvline(most_powerful_pair['se'][0], color = 'red')\n",
    "plt.show()"
   ]
  },
  {
   "cell_type": "markdown",
   "metadata": {},
   "source": [
    "One way to quantify the estimation uncertainty in estimating $\\tilde{\\rho}$ and $\\sigma^2$ is to perform the bootstrap on the initial datasets and perform a power analysis on each bootstrap resample. This will give a range of plausible values of $\\tilde{\\rho}$ and $\\sigma$. "
   ]
  },
  {
   "cell_type": "markdown",
   "metadata": {},
   "source": [
    "## Power analysis for linear regression\n",
    "\n",
    "The function `ppi_ols_power` performs a data-driven power analysis for linear regression. This is illustrated using the `census_income` dataset from *Angelopolous et al (2023)*.\n"
   ]
  },
  {
   "cell_type": "code",
   "execution_count": 241,
   "metadata": {},
   "outputs": [
    {
     "data": {
      "text/html": [
       "<div>\n",
       "<style scoped>\n",
       "    .dataframe tbody tr th:only-of-type {\n",
       "        vertical-align: middle;\n",
       "    }\n",
       "\n",
       "    .dataframe tbody tr th {\n",
       "        vertical-align: top;\n",
       "    }\n",
       "\n",
       "    .dataframe thead th {\n",
       "        text-align: right;\n",
       "    }\n",
       "</style>\n",
       "<table border=\"1\" class=\"dataframe\">\n",
       "  <thead>\n",
       "    <tr style=\"text-align: right;\">\n",
       "      <th></th>\n",
       "      <th>n</th>\n",
       "      <th>N</th>\n",
       "      <th>cost</th>\n",
       "      <th>se</th>\n",
       "      <th>sigma_sq</th>\n",
       "      <th>rho</th>\n",
       "    </tr>\n",
       "  </thead>\n",
       "  <tbody>\n",
       "    <tr>\n",
       "      <th>0</th>\n",
       "      <td>4605</td>\n",
       "      <td>12770</td>\n",
       "      <td>4952.5</td>\n",
       "      <td>50.001732</td>\n",
       "      <td>1.375353e+07</td>\n",
       "      <td>0.470768</td>\n",
       "    </tr>\n",
       "  </tbody>\n",
       "</table>\n",
       "</div>"
      ],
      "text/plain": [
       "      n      N    cost         se      sigma_sq       rho\n",
       "0  4605  12770  4952.5  50.001732  1.375353e+07  0.470768"
      ]
     },
     "execution_count": 241,
     "metadata": {},
     "output_type": "execute_result"
    }
   ],
   "source": [
    "dataset_folder = \"./data/\"\n",
    "data = load_dataset(dataset_folder, \"census_income\")\n",
    "Y_total = data[\"Y\"]\n",
    "Yhat_total = data[\"Yhat\"]\n",
    "X_total = data[\"X\"]\n",
    "\n",
    "n_total = Y_total.shape[0]\n",
    "d = X_total.shape[1]\n",
    "\n",
    "n_initial = 500\n",
    "N_initial = 500\n",
    "\n",
    "sample = np.random.choice(n_total, n_initial + N_initial, replace = False)\n",
    "Y_initial = Y_total[sample[:n_initial]]\n",
    "Yhat_initial = Yhat_total[sample[:n_initial]]\n",
    "X_initial = X_total[sample[:n_initial]]\n",
    "\n",
    "Yhat_unlabeled_initial = Yhat_total[sample[n_initial:]]\n",
    "X_unlabeled_initial = X_total[sample[n_initial:]]\n",
    "\n",
    "cost_Y = 1\n",
    "cost_Yhat = 0.01\n",
    "cost_X = 0.01\n",
    "coord = 0\n",
    "se = 50\n",
    "\n",
    "cheapest_pair = ppi_ols_power(X_initial, \n",
    "                                   Y_initial, \n",
    "                                   Yhat_initial,\n",
    "                                   X_unlabeled_initial,\n",
    "                                   Yhat_unlabeled_initial, \n",
    "                                   cost_Y, \n",
    "                                   cost_Yhat, \n",
    "                                   cost_X,\n",
    "                                   coord,\n",
    "                                   se = se)\n",
    "cheapest_pair"
   ]
  },
  {
   "cell_type": "markdown",
   "metadata": {},
   "source": [
    "Again we can compare the estimated standard error to the observed standard error from subsampling the data."
   ]
  },
  {
   "cell_type": "code",
   "execution_count": 242,
   "metadata": {},
   "outputs": [
    {
     "data": {
      "image/png": "[encoded data removed]",
      "text/plain": [
       "<Figure size 640x480 with 1 Axes>"
      ]
     },
     "metadata": {},
     "output_type": "display_data"
    }
   ],
   "source": [
    "n_opt = cheapest_pair['n'][0]\n",
    "N_opt = cheapest_pair['N'][0]\n",
    "\n",
    "reps = 100\n",
    "ses = np.zeros(reps)\n",
    "for i in range(reps):\n",
    "    sample = np.random.choice(n_total, n_opt + N_opt, replace = False)\n",
    "    Y_opt = Y_total[sample[:n_opt]]\n",
    "    Yhat_opt = Yhat_total[sample[:n_opt]]\n",
    "    X_opt = X_total[sample[:n_opt]]\n",
    "    Yhat_unlabeled_opt = Yhat_total[sample[n_opt:]]\n",
    "    X_unlabeled_opt = X_total[sample[n_opt:]]\n",
    "\n",
    "    CI = ppi_ols_ci(X_opt, Y_opt, Yhat_opt, X_unlabeled_opt, Yhat_unlabeled_opt, alpha = 0.05, coord = coord)\n",
    "    ses[i] = (CI[1][coord] - CI[0][coord])/norm.ppf(1 - 0.05/2)/2\n",
    "    \n",
    "plt.hist(ses, bins = 20)\n",
    "plt.axvline(cheapest_pair['se'][0], color = 'red')\n",
    "plt.show()    "
   ]
  },
  {
   "cell_type": "markdown",
   "metadata": {},
   "source": [
    "## Census education (Poisson regression)\n",
    "\n",
    "Next we perform a power analysiss for a Poisson regression problem with `ppi_poisson_power`.\n"
   ]
  },
  {
   "cell_type": "code",
   "execution_count": 243,
   "metadata": {},
   "outputs": [
    {
     "data": {
      "text/html": [
       "<div>\n",
       "<style scoped>\n",
       "    .dataframe tbody tr th:only-of-type {\n",
       "        vertical-align: middle;\n",
       "    }\n",
       "\n",
       "    .dataframe tbody tr th {\n",
       "        vertical-align: top;\n",
       "    }\n",
       "\n",
       "    .dataframe thead th {\n",
       "        text-align: right;\n",
       "    }\n",
       "</style>\n",
       "<table border=\"1\" class=\"dataframe\">\n",
       "  <thead>\n",
       "    <tr style=\"text-align: right;\">\n",
       "      <th></th>\n",
       "      <th>n</th>\n",
       "      <th>N</th>\n",
       "      <th>cost</th>\n",
       "      <th>se</th>\n",
       "      <th>sigma_sq</th>\n",
       "      <th>rho</th>\n",
       "    </tr>\n",
       "  </thead>\n",
       "  <tbody>\n",
       "    <tr>\n",
       "      <th>0</th>\n",
       "      <td>4563</td>\n",
       "      <td>17270</td>\n",
       "      <td>4999.66</td>\n",
       "      <td>62.283125</td>\n",
       "      <td>2.355141e+07</td>\n",
       "      <td>0.560409</td>\n",
       "    </tr>\n",
       "  </tbody>\n",
       "</table>\n",
       "</div>"
      ],
      "text/plain": [
       "      n      N     cost         se      sigma_sq       rho\n",
       "0  4563  17270  4999.66  62.283125  2.355141e+07  0.560409"
      ]
     },
     "execution_count": 243,
     "metadata": {},
     "output_type": "execute_result"
    }
   ],
   "source": [
    "dataset_folder = \"./data/\"\n",
    "data = load_dataset(dataset_folder, \"census_education\")\n",
    "Y_total = data[\"Y\"]\n",
    "Yhat_total = data[\"Yhat\"]\n",
    "X_total = data[\"X\"]/10000 # scale\n",
    "\n",
    "n_total = Y_total.shape[0]\n",
    "d = X_total.shape[1]\n",
    "\n",
    "n_initial = 500\n",
    "N_initial = 500\n",
    "\n",
    "sample = np.random.choice(n_total, n_initial + N_initial, replace = False)\n",
    "\n",
    "Y_initial = Y_total[sample[:n_initial]]\n",
    "Yhat_initial = Yhat_total[sample[:n_initial]]\n",
    "X_initial = X_total[sample[:n_initial]]\n",
    "\n",
    "Yhat_unlabeled_initial = Yhat_total[sample[n_initial:]]\n",
    "X_unlabeled_initial = X_total[sample[n_initial:]]\n",
    "\n",
    "cost_Y = 1\n",
    "cost_Yhat = 0.01\n",
    "cost_X = 0.01\n",
    "coord = 0\n",
    "\n",
    "most_powerful_pair = ppi_poisson_power(X_initial, \n",
    "                                       Y_initial, \n",
    "                                       Yhat_initial,\n",
    "                                       X_unlabeled_initial,\n",
    "                                       Yhat_unlabeled_initial, \n",
    "                                       cost_Y, \n",
    "                                       cost_Yhat, \n",
    "                                       cost_X,\n",
    "                                       coord,\n",
    "                                       budget = 5000)\n",
    "most_powerful_pair"
   ]
  },
  {
   "cell_type": "code",
   "execution_count": 244,
   "metadata": {},
   "outputs": [
    {
     "data": {
      "text/html": [
       "<div>\n",
       "<style scoped>\n",
       "    .dataframe tbody tr th:only-of-type {\n",
       "        vertical-align: middle;\n",
       "    }\n",
       "\n",
       "    .dataframe tbody tr th {\n",
       "        vertical-align: top;\n",
       "    }\n",
       "\n",
       "    .dataframe thead th {\n",
       "        text-align: right;\n",
       "    }\n",
       "</style>\n",
       "<table border=\"1\" class=\"dataframe\">\n",
       "  <thead>\n",
       "    <tr style=\"text-align: right;\">\n",
       "      <th></th>\n",
       "      <th>n</th>\n",
       "      <th>N</th>\n",
       "      <th>cost</th>\n",
       "      <th>se</th>\n",
       "      <th>sigma_sq</th>\n",
       "      <th>rho</th>\n",
       "    </tr>\n",
       "  </thead>\n",
       "  <tbody>\n",
       "    <tr>\n",
       "      <th>0</th>\n",
       "      <td>19667</td>\n",
       "      <td>74433</td>\n",
       "      <td>21549.0</td>\n",
       "      <td>30.000401</td>\n",
       "      <td>2.355141e+07</td>\n",
       "      <td>0.560409</td>\n",
       "    </tr>\n",
       "  </tbody>\n",
       "</table>\n",
       "</div>"
      ],
      "text/plain": [
       "       n      N     cost         se      sigma_sq       rho\n",
       "0  19667  74433  21549.0  30.000401  2.355141e+07  0.560409"
      ]
     },
     "execution_count": 244,
     "metadata": {},
     "output_type": "execute_result"
    }
   ],
   "source": [
    "cheapest_pair = ppi_poisson_power(X_initial, \n",
    "                                Y_initial, \n",
    "                                Yhat_initial,\n",
    "                                X_unlabeled_initial,\n",
    "                                Yhat_unlabeled_initial, \n",
    "                                cost_Y, \n",
    "                                cost_Yhat, \n",
    "                                cost_X,\n",
    "                                coord,\n",
    "                                se = 30)\n",
    "cheapest_pair"
   ]
  },
  {
   "cell_type": "code",
   "execution_count": 245,
   "metadata": {},
   "outputs": [],
   "source": [
    "n_opt = most_powerful_pair['n'][0]\n",
    "N_opt = most_powerful_pair['N'][0]\n",
    "\n",
    "reps = 100\n",
    "ses = np.zeros(reps)\n",
    "for i in range(reps):\n",
    "    sample = np.random.choice(n_total, n_opt + N_opt, replace = False)\n",
    "    Y_opt = Y_total[sample[:n_opt]]\n",
    "    Yhat_opt = Yhat_total[sample[:n_opt]]\n",
    "    X_opt = X_total[sample[:n_opt]]\n",
    "    Yhat_unlabeled_opt = Yhat_total[sample[n_opt:]]\n",
    "    X_unlabeled_opt = X_total[sample[n_opt:]]\n",
    "\n",
    "    CI = ppi_poisson_ci(X_opt, Y_opt, Yhat_opt, X_unlabeled_opt, Yhat_unlabeled_opt, alpha = 0.05, coord = coord)\n",
    "    ses[i] = (CI[1][coord] - CI[0][coord])/norm.ppf(1 - 0.05/2)/2\n",
    "    \n",
    "    "
   ]
  },
  {
   "cell_type": "code",
   "execution_count": 246,
   "metadata": {},
   "outputs": [
    {
     "data": {
      "image/png": "[encoded data removed]",
      "text/plain": [
       "<Figure size 640x480 with 1 Axes>"
      ]
     },
     "metadata": {},
     "output_type": "display_data"
    }
   ],
   "source": [
    "plt.hist(ses, bins = 20)\n",
    "plt.axvline(most_powerful_pair['se'][0], color = 'red')\n",
    "plt.show()"
   ]
  }
 ],
 "metadata": {
  "kernelspec": {
   "display_name": "Python 3",
   "language": "python",
   "name": "python3"
  },
  "language_info": {
   "codemirror_mode": {
    "name": "ipython",
    "version": 3
   },
   "file_extension": ".py",
   "mimetype": "text/x-python",
   "name": "python",
   "nbconvert_exporter": "python",
   "pygments_lexer": "ipython3",
   "version": "3.11.2"
  }
 },
 "nbformat": 4,
 "nbformat_minor": 2
}
