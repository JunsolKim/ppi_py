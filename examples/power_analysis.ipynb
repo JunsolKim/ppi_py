{
 "cells": [
  {
   "cell_type": "markdown",
   "metadata": {},
   "source": [
    "# PPI power analysis\n",
    "\n"
   ]
  },
  {
   "cell_type": "code",
   "execution_count": 31,
   "metadata": {},
   "outputs": [
    {
     "name": "stdout",
     "output_type": "stream",
     "text": [
      "The autoreload extension is already loaded. To reload it, use:\n",
      "  %reload_ext autoreload\n"
     ]
    }
   ],
   "source": [
    "%load_ext autoreload\n",
    "%autoreload 2"
   ]
  },
  {
   "cell_type": "code",
   "execution_count": 52,
   "metadata": {},
   "outputs": [],
   "source": [
    "import os, sys\n",
    "\n",
    "sys.path.append(os.path.abspath(os.path.join(os.getcwd(), os.pardir)))\n",
    "import numpy as np\n",
    "import pandas as pd\n",
    "import matplotlib.pyplot as plt\n",
    "from ppi_py.datasets import load_dataset\n",
    "from ppi_py.power_ppi import ppi_mean_power, ppi_ols_power, ppi_poisson_power\n",
    "from ppi_py.ppi import ppi_mean_ci, ppi_ols_ci, ppi_poisson_ci\n",
    "from tqdm import tqdm\n",
    "from scipy.optimize import brentq\n",
    "from scipy.stats import norm\n",
    "from utils import *"
   ]
  },
  {
   "cell_type": "markdown",
   "metadata": {},
   "source": [
    "## Import ballots data"
   ]
  },
  {
   "cell_type": "code",
   "execution_count": 33,
   "metadata": {},
   "outputs": [],
   "source": [
    "dataset_folder = \"./data/\"\n",
    "data = load_dataset(dataset_folder, \"ballots\")\n",
    "Y = data[\"Y\"]\n",
    "Yhat = data[\"Yhat\"]\n",
    "Yhat_unlabeled = data[\"Yhat_unlabeled\"]"
   ]
  },
  {
   "cell_type": "markdown",
   "metadata": {},
   "source": [
    "## Perform initial power analysis with a subset of the data"
   ]
  },
  {
   "cell_type": "code",
   "execution_count": 34,
   "metadata": {},
   "outputs": [
    {
     "name": "stdout",
     "output_type": "stream",
     "text": [
      "Most powerful pair:\n",
      "      n      N    cost       se  sigma_sq    rho_sq\n",
      "0  706  28618  999.24  0.00509    0.2356  0.945104\n",
      "Cheapest pair:\n",
      "      n     N    cost       se  sigma_sq    rho_sq\n",
      "0  182  7410  257.92  0.01002    0.2356  0.945104\n"
     ]
    }
   ],
   "source": [
    "n = Y.shape[0]\n",
    "N = Yhat_unlabeled.shape[0]\n",
    "\n",
    "n_initial = 200\n",
    "N_initial = 200\n",
    "\n",
    "labeled_initial = np.random.choice(n, n_initial, replace = False)\n",
    "unlabeled_initial = np.random.choice(N, N_initial, replace = False)\n",
    "\n",
    "Y_initial = Y[labeled_initial]\n",
    "Yhat_initial = Yhat[labeled_initial]\n",
    "Yhat_unlabeled_initial = Yhat_unlabeled[unlabeled_initial]\n",
    "cost_Y = 1\n",
    "cost_Yhat = 0.01\n",
    "\n",
    "most_powerful_pair = ppi_mean_power(Y_initial, Yhat_initial, Yhat_unlabeled_initial, cost_Y, cost_Yhat, budget = 1000)\n",
    "cheapest_pair = ppi_mean_power(Y_initial, Yhat_initial, Yhat_unlabeled_initial, cost_Y, cost_Yhat, se_tol = 0.01)\n",
    "print(\"Most powerful pair:\\n\", most_powerful_pair)\n",
    "print(\"Cheapest pair:\\n\", cheapest_pair)"
   ]
  },
  {
   "cell_type": "code",
   "execution_count": 35,
   "metadata": {},
   "outputs": [
    {
     "name": "stdout",
     "output_type": "stream",
     "text": [
      "0    999.24\n",
      "dtype: float64\n",
      "0    0.00509\n",
      "dtype: float64\n"
     ]
    }
   ],
   "source": [
    "n = most_powerful_pair[\"n\"]\n",
    "N = most_powerful_pair[\"N\"]\n",
    "sigma_sq = most_powerful_pair[\"sigma_sq\"]\n",
    "rho_sq = most_powerful_pair[\"rho_sq\"]\n",
    "\n",
    "print(n * (cost_Y + cost_Yhat) + N * cost_Yhat)\n",
    "print((sigma_sq / n *(1 - N * rho_sq / (n+N)))**0.5)"
   ]
  },
  {
   "cell_type": "code",
   "execution_count": 36,
   "metadata": {},
   "outputs": [
    {
     "name": "stdout",
     "output_type": "stream",
     "text": [
      "Predicted SE for most powerful pair:  0.0050904459800778755\n",
      "Estimated SE for most powerful pair:  0.004431664997296418\n"
     ]
    }
   ],
   "source": [
    "n_sub = most_powerful_pair['n'][0]\n",
    "N_sub = most_powerful_pair['N'][0]\n",
    "\n",
    "n = Y.shape[0]\n",
    "N = Yhat_unlabeled.shape[0]\n",
    "reps = 200 \n",
    "ses = np.zeros(reps)\n",
    "for i in range(reps):\n",
    "    labeled_sample = np.random.choice(n, n_sub, replace = False)\n",
    "    unlabeled_sample = np.random.choice(N, N_sub, replace = False)\n",
    "\n",
    "    Y_sub = Y[labeled_sample]\n",
    "    Yhat_sub = Yhat[labeled_sample]\n",
    "    Yhat_unlabeled_sub = Yhat_unlabeled[unlabeled_sample]\n",
    "    CI = ppi_mean_ci(Y_sub, Yhat_sub, Yhat_unlabeled_sub, alpha = 0.05)\n",
    "    ses[i] = (CI[1][0] - CI[0][0])/norm.ppf(1 - 0.05/2)/2\n",
    "    \n",
    "print(\"Predicted SE for most powerful pair: \", most_powerful_pair['se'][0])\n",
    "print(\"Estimated SE for most powerful pair: \", np.mean(ses))"
   ]
  },
  {
   "cell_type": "code",
   "execution_count": 37,
   "metadata": {},
   "outputs": [
    {
     "name": "stdout",
     "output_type": "stream",
     "text": [
      "Predicted SE for cheapest pair:  0.010019578645392546\n",
      "Estimated SE for cheapest pair:  0.008580211972035496\n"
     ]
    }
   ],
   "source": [
    "n_sub = cheapest_pair['n'][0]\n",
    "N_sub = cheapest_pair['N'][0]\n",
    "\n",
    "n = Y.shape[0]\n",
    "N = Yhat_unlabeled.shape[0]\n",
    "reps = 200 \n",
    "ses = np.zeros(reps)\n",
    "for i in range(reps):\n",
    "    labeled_sample = np.random.choice(n, n_sub, replace = False)\n",
    "    unlabeled_sample = np.random.choice(N, N_sub, replace = False)\n",
    "\n",
    "    Y_sub = Y[labeled_sample]\n",
    "    Yhat_sub = Yhat[labeled_sample]\n",
    "    Yhat_unlabeled_sub = Yhat_unlabeled[unlabeled_sample]\n",
    "    CI = ppi_mean_ci(Y_sub, Yhat_sub, Yhat_unlabeled_sub, alpha = 0.05)\n",
    "    ses[i] = (CI[1][0] - CI[0][0])/norm.ppf(1 - 0.05/2)/2\n",
    "    \n",
    "print(\"Predicted SE for cheapest pair: \", cheapest_pair['se'][0])\n",
    "print(\"Estimated SE for cheapest pair: \", np.mean(ses))"
   ]
  },
  {
   "cell_type": "markdown",
   "metadata": {},
   "source": [
    "## Census income data (Regression estimation)\n"
   ]
  },
  {
   "cell_type": "code",
   "execution_count": 38,
   "metadata": {},
   "outputs": [],
   "source": [
    "dataset_folder = \"./data/\"\n",
    "data = load_dataset(dataset_folder, \"census_income\")\n",
    "Y_total = data[\"Y\"]\n",
    "Yhat_total = data[\"Yhat\"]\n",
    "X_total = data[\"X\"]"
   ]
  },
  {
   "cell_type": "code",
   "execution_count": 46,
   "metadata": {},
   "outputs": [
    {
     "data": {
      "text/html": [
       "<div>\n",
       "<style scoped>\n",
       "    .dataframe tbody tr th:only-of-type {\n",
       "        vertical-align: middle;\n",
       "    }\n",
       "\n",
       "    .dataframe tbody tr th {\n",
       "        vertical-align: top;\n",
       "    }\n",
       "\n",
       "    .dataframe thead th {\n",
       "        text-align: right;\n",
       "    }\n",
       "</style>\n",
       "<table border=\"1\" class=\"dataframe\">\n",
       "  <thead>\n",
       "    <tr style=\"text-align: right;\">\n",
       "      <th></th>\n",
       "      <th>n</th>\n",
       "      <th>N</th>\n",
       "      <th>cost</th>\n",
       "      <th>se</th>\n",
       "      <th>sigma_sq</th>\n",
       "      <th>rho_sq</th>\n",
       "    </tr>\n",
       "  </thead>\n",
       "  <tbody>\n",
       "    <tr>\n",
       "      <th>0</th>\n",
       "      <td>4659</td>\n",
       "      <td>12360</td>\n",
       "      <td>4999.38</td>\n",
       "      <td>35.707683</td>\n",
       "      <td>7.013193e+06</td>\n",
       "      <td>0.210627</td>\n",
       "    </tr>\n",
       "  </tbody>\n",
       "</table>\n",
       "</div>"
      ],
      "text/plain": [
       "      n      N     cost         se      sigma_sq    rho_sq\n",
       "0  4659  12360  4999.38  35.707683  7.013193e+06  0.210627"
      ]
     },
     "execution_count": 46,
     "metadata": {},
     "output_type": "execute_result"
    }
   ],
   "source": [
    "n_total = Y_total.shape[0]\n",
    "d = X_total.shape[1]\n",
    "\n",
    "n_initial = 500\n",
    "N_initial = 500\n",
    "\n",
    "sample = np.random.choice(n_total, n_initial + N_initial, replace = False)\n",
    "Y_initial = Y_total[sample[:n_initial]]\n",
    "Yhat_initial = Yhat_total[sample[:n_initial]]\n",
    "X_initial = X_total[sample[:n_initial]]\n",
    "\n",
    "Yhat_unlabeled_initial = Yhat_total[sample[n_initial:]]\n",
    "X_unlabeled_initial = X_total[sample[n_initial:]]\n",
    "\n",
    "cost_Y = 1\n",
    "cost_Yhat = 0.01\n",
    "cost_X = 0.01\n",
    "coord = 0\n",
    "\n",
    "most_powerful_pair = ppi_ols_power(X_initial, \n",
    "                                   Y_initial, \n",
    "                                   Yhat_initial,\n",
    "                                   X_unlabeled_initial,\n",
    "                                   Yhat_unlabeled_initial, \n",
    "                                   cost_Y, \n",
    "                                   cost_Yhat, \n",
    "                                   cost_X,\n",
    "                                   coord,\n",
    "                                   budget = 5000)\n",
    "most_powerful_pair"
   ]
  },
  {
   "cell_type": "code",
   "execution_count": 47,
   "metadata": {},
   "outputs": [],
   "source": [
    "n_sub = most_powerful_pair['n'][0]\n",
    "N_sub = most_powerful_pair['N'][0]\n",
    "\n",
    "reps = 100\n",
    "ses = np.zeros(reps)\n",
    "for i in range(reps):\n",
    "    sample = np.random.choice(n_total, n_sub + N_sub, replace = False)\n",
    "    Y_sub = Y_total[sample[:n_sub]]\n",
    "    Yhat_sub = Yhat_total[sample[:n_sub]]\n",
    "    X_sub = X_total[sample[:n_sub]]\n",
    "    Yhat_unlabeled_sub = Yhat_total[sample[n_sub:]]\n",
    "    X_unlabeled_sub = X_total[sample[n_sub:]]\n",
    "\n",
    "    CI = ppi_ols_ci(X_sub, Y_sub, Yhat_sub, X_unlabeled_sub, Yhat_unlabeled_sub, alpha = 0.05, coord = coord)\n",
    "    ses[i] = (CI[1][coord] - CI[0][coord])/norm.ppf(1 - 0.05/2)/2\n",
    "    \n",
    "    "
   ]
  },
  {
   "cell_type": "code",
   "execution_count": 48,
   "metadata": {},
   "outputs": [
    {
     "data": {
      "image/png": "[encoded data removed]",
      "text/plain": [
       "<Figure size 640x480 with 1 Axes>"
      ]
     },
     "metadata": {},
     "output_type": "display_data"
    }
   ],
   "source": [
    "plt.hist(ses, bins = 20)\n",
    "plt.axvline(most_powerful_pair['se'][0], color = 'red')\n",
    "plt.show()"
   ]
  },
  {
   "cell_type": "markdown",
   "metadata": {},
   "source": [
    "## Census education (Poisson regression)\n",
    "\n"
   ]
  },
  {
   "cell_type": "code",
   "execution_count": 49,
   "metadata": {},
   "outputs": [
    {
     "name": "stdout",
     "output_type": "stream",
     "text": [
      "Dataset census_education not found at location ./data/; downloading now...\n"
     ]
    }
   ],
   "source": [
    "dataset_folder = \"./data/\"\n",
    "data = load_dataset(dataset_folder, \"census_education\")\n",
    "Y_total = data[\"Y\"]\n",
    "Yhat_total = data[\"Yhat\"]\n",
    "X_total = data[\"X\"]/10000 # scal"
   ]
  },
  {
   "cell_type": "code",
   "execution_count": 54,
   "metadata": {},
   "outputs": [
    {
     "data": {
      "text/html": [
       "<div>\n",
       "<style scoped>\n",
       "    .dataframe tbody tr th:only-of-type {\n",
       "        vertical-align: middle;\n",
       "    }\n",
       "\n",
       "    .dataframe tbody tr th {\n",
       "        vertical-align: top;\n",
       "    }\n",
       "\n",
       "    .dataframe thead th {\n",
       "        text-align: right;\n",
       "    }\n",
       "</style>\n",
       "<table border=\"1\" class=\"dataframe\">\n",
       "  <thead>\n",
       "    <tr style=\"text-align: right;\">\n",
       "      <th></th>\n",
       "      <th>n</th>\n",
       "      <th>N</th>\n",
       "      <th>cost</th>\n",
       "      <th>se</th>\n",
       "      <th>sigma_sq</th>\n",
       "      <th>rho_sq</th>\n",
       "    </tr>\n",
       "  </thead>\n",
       "  <tbody>\n",
       "    <tr>\n",
       "      <th>0</th>\n",
       "      <td>4557</td>\n",
       "      <td>17564</td>\n",
       "      <td>4999.42</td>\n",
       "      <td>58.730273</td>\n",
       "      <td>2.107870e+07</td>\n",
       "      <td>0.320289</td>\n",
       "    </tr>\n",
       "  </tbody>\n",
       "</table>\n",
       "</div>"
      ],
      "text/plain": [
       "      n      N     cost         se      sigma_sq    rho_sq\n",
       "0  4557  17564  4999.42  58.730273  2.107870e+07  0.320289"
      ]
     },
     "execution_count": 54,
     "metadata": {},
     "output_type": "execute_result"
    }
   ],
   "source": [
    "n_total = Y_total.shape[0]\n",
    "d = X_total.shape[1]\n",
    "\n",
    "n_initial = 500\n",
    "N_initial = 500\n",
    "\n",
    "sample = np.random.choice(n_total, n_initial + N_initial, replace = False)\n",
    "\n",
    "Y_initial = Y_total[sample[:n_initial]]\n",
    "Yhat_initial = Yhat_total[sample[:n_initial]]\n",
    "X_initial = X_total[sample[:n_initial]]\n",
    "\n",
    "Yhat_unlabeled_initial = Yhat_total[sample[n_initial:]]\n",
    "X_unlabeled_initial = X_total[sample[n_initial:]]\n",
    "\n",
    "cost_Y = 1\n",
    "cost_Yhat = 0.01\n",
    "cost_X = 0.01\n",
    "coord = 0\n",
    "\n",
    "most_powerful_pair = ppi_poisson_power(X_initial, \n",
    "                                       Y_initial, \n",
    "                                       Yhat_initial,\n",
    "                                       X_unlabeled_initial,\n",
    "                                       Yhat_unlabeled_initial, \n",
    "                                       cost_Y, \n",
    "                                       cost_Yhat, \n",
    "                                       cost_X,\n",
    "                                       coord,\n",
    "                                       budget = 5000)\n",
    "most_powerful_pair"
   ]
  },
  {
   "cell_type": "code",
   "execution_count": 57,
   "metadata": {},
   "outputs": [
    {
     "data": {
      "text/html": [
       "<div>\n",
       "<style scoped>\n",
       "    .dataframe tbody tr th:only-of-type {\n",
       "        vertical-align: middle;\n",
       "    }\n",
       "\n",
       "    .dataframe tbody tr th {\n",
       "        vertical-align: top;\n",
       "    }\n",
       "\n",
       "    .dataframe thead th {\n",
       "        text-align: right;\n",
       "    }\n",
       "</style>\n",
       "<table border=\"1\" class=\"dataframe\">\n",
       "  <thead>\n",
       "    <tr style=\"text-align: right;\">\n",
       "      <th></th>\n",
       "      <th>n</th>\n",
       "      <th>N</th>\n",
       "      <th>cost</th>\n",
       "      <th>se</th>\n",
       "      <th>sigma_sq</th>\n",
       "      <th>rho_sq</th>\n",
       "    </tr>\n",
       "  </thead>\n",
       "  <tbody>\n",
       "    <tr>\n",
       "      <th>0</th>\n",
       "      <td>17464</td>\n",
       "      <td>67308</td>\n",
       "      <td>19159.44</td>\n",
       "      <td>30.000633</td>\n",
       "      <td>2.107870e+07</td>\n",
       "      <td>0.320289</td>\n",
       "    </tr>\n",
       "  </tbody>\n",
       "</table>\n",
       "</div>"
      ],
      "text/plain": [
       "       n      N      cost         se      sigma_sq    rho_sq\n",
       "0  17464  67308  19159.44  30.000633  2.107870e+07  0.320289"
      ]
     },
     "execution_count": 57,
     "metadata": {},
     "output_type": "execute_result"
    }
   ],
   "source": [
    "cheapest_pair = ppi_poisson_power(X_initial, \n",
    "                                Y_initial, \n",
    "                                Yhat_initial,\n",
    "                                X_unlabeled_initial,\n",
    "                                Yhat_unlabeled_initial, \n",
    "                                cost_Y, \n",
    "                                cost_Yhat, \n",
    "                                cost_X,\n",
    "                                coord,\n",
    "                                se_tol = 30)\n",
    "cheapest_pair"
   ]
  },
  {
   "cell_type": "code",
   "execution_count": 58,
   "metadata": {},
   "outputs": [],
   "source": [
    "n_sub = most_powerful_pair['n'][0]\n",
    "N_sub = most_powerful_pair['N'][0]\n",
    "\n",
    "reps = 100\n",
    "ses = np.zeros(reps)\n",
    "for i in range(reps):\n",
    "    sample = np.random.choice(n_total, n_sub + N_sub, replace = False)\n",
    "    Y_sub = Y_total[sample[:n_sub]]\n",
    "    Yhat_sub = Yhat_total[sample[:n_sub]]\n",
    "    X_sub = X_total[sample[:n_sub]]\n",
    "    Yhat_unlabeled_sub = Yhat_total[sample[n_sub:]]\n",
    "    X_unlabeled_sub = X_total[sample[n_sub:]]\n",
    "\n",
    "    CI = ppi_poisson_ci(X_sub, Y_sub, Yhat_sub, X_unlabeled_sub, Yhat_unlabeled_sub, alpha = 0.05, coord = coord)\n",
    "    ses[i] = (CI[1][coord] - CI[0][coord])/norm.ppf(1 - 0.05/2)/2\n",
    "    \n",
    "    "
   ]
  },
  {
   "cell_type": "code",
   "execution_count": 59,
   "metadata": {},
   "outputs": [
    {
     "data": {
      "image/png": "[encoded data removed]",
      "text/plain": [
       "<Figure size 640x480 with 1 Axes>"
      ]
     },
     "metadata": {},
     "output_type": "display_data"
    }
   ],
   "source": [
    "plt.hist(ses, bins = 20)\n",
    "plt.axvline(most_powerful_pair['se'][0], color = 'red')\n",
    "plt.show()"
   ]
  }
 ],
 "metadata": {
  "kernelspec": {
   "display_name": "Python 3",
   "language": "python",
   "name": "python3"
  },
  "language_info": {
   "codemirror_mode": {
    "name": "ipython",
    "version": 3
   },
   "file_extension": ".py",
   "mimetype": "text/x-python",
   "name": "python",
   "nbconvert_exporter": "python",
   "pygments_lexer": "ipython3",
   "version": "3.11.2"
  }
 },
 "nbformat": 4,
 "nbformat_minor": 2
}
