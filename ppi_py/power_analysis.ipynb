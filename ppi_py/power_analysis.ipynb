{
 "cells": [
  {
   "cell_type": "markdown",
   "metadata": {},
   "source": [
    "# PPI power analysis\n",
    "\n"
   ]
  },
  {
   "cell_type": "code",
   "execution_count": 35,
   "metadata": {},
   "outputs": [],
   "source": [
    "import os, sys\n",
    "\n",
    "sys.path.append(os.path.abspath(os.path.join(os.getcwd(), os.pardir)))\n",
    "import numpy as np\n",
    "import pandas as pd\n",
    "import matplotlib.pyplot as plt\n",
    "from ppi_py.datasets import load_dataset\n",
    "from power_ppi import ppi_mean_power, ppi_ols_power\n",
    "from ppi_py import ppi_mean_ci, ppi_ols_ci\n",
    "from tqdm import tqdm\n",
    "from scipy.optimize import brentq\n",
    "from scipy.stats import norm\n",
    "from utils import *"
   ]
  },
  {
   "cell_type": "markdown",
   "metadata": {},
   "source": [
    "## Import ballots data"
   ]
  },
  {
   "cell_type": "code",
   "execution_count": 36,
   "metadata": {},
   "outputs": [],
   "source": [
    "dataset_folder = \"./data/\"\n",
    "data = load_dataset(dataset_folder, \"ballots\")\n",
    "Y = data[\"Y\"]\n",
    "Yhat = data[\"Yhat\"]\n",
    "Yhat_unlabeled = data[\"Yhat_unlabeled\"]"
   ]
  },
  {
   "cell_type": "markdown",
   "metadata": {},
   "source": [
    "## Perform initial power analysis with a subset of the data"
   ]
  },
  {
   "cell_type": "code",
   "execution_count": 37,
   "metadata": {},
   "outputs": [
    {
     "name": "stdout",
     "output_type": "stream",
     "text": [
      "Most powerful pair:\n",
      " {'n': array([415]), 'N': array([58084]), 'cost': array([999.99]), 'se': array([0.00261727]), 'sigma_sq': array([0.2356]), 'rho_sq': array([0.99499246])}\n",
      "Cheapest pair:\n",
      " {'n': array([28]), 'N': array([3978]), 'cost': array([68.06]), 'se': array([0.01003256]), 'sigma_sq': array([0.2356]), 'rho_sq': array([0.99499246])}\n"
     ]
    }
   ],
   "source": [
    "n = Y.shape[0]\n",
    "N = Yhat_unlabeled.shape[0]\n",
    "\n",
    "n_initial = 200\n",
    "N_initial = 200\n",
    "\n",
    "labeled_initial = np.random.choice(n, n_initial, replace = False)\n",
    "unlabeled_initial = np.random.choice(N, N_initial, replace = False)\n",
    "\n",
    "Y_initial = Y[labeled_initial]\n",
    "Yhat_initial = Yhat[labeled_initial]\n",
    "Yhat_unlabeled_initial = Yhat_unlabeled[unlabeled_initial]\n",
    "cost_Y = 1\n",
    "cost_Yhat = 0.01\n",
    "\n",
    "most_powerful_pair = ppi_mean_power(Y_initial, Yhat_initial, Yhat_unlabeled_initial, cost_Y, cost_Yhat, budget = 1000)\n",
    "cheapest_pair = ppi_mean_power(Y_initial, Yhat_initial, Yhat_unlabeled_initial, cost_Y, cost_Yhat, se_tol = 0.01)\n",
    "print(\"Most powerful pair:\\n\", most_powerful_pair)\n",
    "print(\"Cheapest pair:\\n\", cheapest_pair)"
   ]
  },
  {
   "cell_type": "code",
   "execution_count": 38,
   "metadata": {},
   "outputs": [
    {
     "name": "stdout",
     "output_type": "stream",
     "text": [
      "Predicted SE for most powerful pair:  0.0026172671622984637\n",
      "Estimated SE for most powerful pair:  0.004776163265650555\n"
     ]
    }
   ],
   "source": [
    "n_sub = most_powerful_pair['n'][0]\n",
    "N_sub = most_powerful_pair['N'][0]\n",
    "\n",
    "n = Y.shape[0]\n",
    "N = Yhat_unlabeled.shape[0]\n",
    "reps = 200 \n",
    "ses = np.zeros(reps)\n",
    "for i in range(reps):\n",
    "    labeled_sample = np.random.choice(n, n_sub, replace = False)\n",
    "    unlabeled_sample = np.random.choice(N, N_sub, replace = False)\n",
    "\n",
    "    Y_sub = Y[labeled_sample]\n",
    "    Yhat_sub = Yhat[labeled_sample]\n",
    "    Yhat_unlabeled_sub = Yhat_unlabeled[unlabeled_sample]\n",
    "    CI = ppi_mean_ci(Y_sub, Yhat_sub, Yhat_unlabeled_sub, alpha = 0.05)\n",
    "    ses[i] = (CI[1][0] - CI[0][0])/norm.ppf(1 - 0.05/2)/2\n",
    "    \n",
    "print(\"Predicted SE for most powerful pair: \", most_powerful_pair['se'][0])\n",
    "print(\"Estimated SE for most powerful pair: \", np.mean(ses))"
   ]
  },
  {
   "cell_type": "code",
   "execution_count": 39,
   "metadata": {},
   "outputs": [
    {
     "name": "stdout",
     "output_type": "stream",
     "text": [
      "Predicted SE for cheapest pair:  0.010032555238333985\n",
      "Estimated SE for cheapest pair:  0.015080871358718426\n"
     ]
    }
   ],
   "source": [
    "n_sub = cheapest_pair['n'][0]\n",
    "N_sub = cheapest_pair['N'][0]\n",
    "\n",
    "n = Y.shape[0]\n",
    "N = Yhat_unlabeled.shape[0]\n",
    "reps = 200 \n",
    "ses = np.zeros(reps)\n",
    "for i in range(reps):\n",
    "    labeled_sample = np.random.choice(n, n_sub, replace = False)\n",
    "    unlabeled_sample = np.random.choice(N, N_sub, replace = False)\n",
    "\n",
    "    Y_sub = Y[labeled_sample]\n",
    "    Yhat_sub = Yhat[labeled_sample]\n",
    "    Yhat_unlabeled_sub = Yhat_unlabeled[unlabeled_sample]\n",
    "    CI = ppi_mean_ci(Y_sub, Yhat_sub, Yhat_unlabeled_sub, alpha = 0.05)\n",
    "    ses[i] = (CI[1][0] - CI[0][0])/norm.ppf(1 - 0.05/2)/2\n",
    "    \n",
    "print(\"Predicted SE for cheapest pair: \", cheapest_pair['se'][0])\n",
    "print(\"Estimated SE for cheapest pair: \", np.mean(ses))"
   ]
  },
  {
   "cell_type": "markdown",
   "metadata": {},
   "source": [
    "## Census income data (Regression estimation)\n"
   ]
  },
  {
   "cell_type": "code",
   "execution_count": 40,
   "metadata": {},
   "outputs": [],
   "source": [
    "dataset_folder = \"./data/\"\n",
    "data = load_dataset(dataset_folder, \"census_income\")\n",
    "Y_total = data[\"Y\"]\n",
    "Yhat_total = data[\"Yhat\"]\n",
    "X_total = data[\"X\"]"
   ]
  },
  {
   "cell_type": "code",
   "execution_count": 41,
   "metadata": {},
   "outputs": [
    {
     "data": {
      "text/plain": [
       "{'n': np.int64(4605),\n",
       " 'N': np.int64(15119),\n",
       " 'cost': np.float64(4999.48),\n",
       " 'se': np.float64(41.803981624155675),\n",
       " 'sigma_sq': np.float64(10132119.845280917),\n",
       " 'rho_sq': np.float64(0.26840045330448103)}"
      ]
     },
     "execution_count": 41,
     "metadata": {},
     "output_type": "execute_result"
    }
   ],
   "source": [
    "n_total = Y_total.shape[0]\n",
    "d = X_total.shape[1]\n",
    "\n",
    "n_initial = 500\n",
    "N_initial = 500\n",
    "\n",
    "sample = np.random.choice(n_total, n_initial + N_initial, replace = False)\n",
    "Y_initial = Y_total[sample[:n_initial]]\n",
    "Yhat_initial = Yhat_total[sample[:n_initial]]\n",
    "X_initial = X_total[sample[:n_initial]]\n",
    "\n",
    "Yhat_unlabeled_initial = Yhat_total[sample[n_initial:]]\n",
    "X_unlabeled_initial = X_total[sample[n_initial:]]\n",
    "\n",
    "cost_Y = 1\n",
    "cost_Yhat = 0.01\n",
    "cost_X = 0.01\n",
    "coord = 0\n",
    "\n",
    "most_powerful_pair = ppi_ols_power(X_initial, \n",
    "                                   Y_initial, \n",
    "                                   Yhat_initial,\n",
    "                                   X_unlabeled_initial,\n",
    "                                   Yhat_unlabeled_initial, \n",
    "                                   cost_Y, \n",
    "                                   cost_Yhat, \n",
    "                                   cost_X,\n",
    "                                   coord,\n",
    "                                   budget = 5000)\n",
    "most_powerful_pair"
   ]
  },
  {
   "cell_type": "code",
   "execution_count": 42,
   "metadata": {},
   "outputs": [],
   "source": [
    "n_sub = most_powerful_pair['n']\n",
    "N_sub = most_powerful_pair['N']\n",
    "\n",
    "reps = 100\n",
    "ses = np.zeros(reps)\n",
    "for i in range(reps):\n",
    "    sample = np.random.choice(n_total, n_sub + N_sub, replace = False)\n",
    "    Y_sub = Y_total[sample[:n_sub]]\n",
    "    Yhat_sub = Yhat_total[sample[:n_sub]]\n",
    "    X_sub = X_total[sample[:n_sub]]\n",
    "    Yhat_unlabeled_sub = Yhat_total[sample[n_sub:]]\n",
    "    X_unlabeled_sub = X_total[sample[n_sub:]]\n",
    "\n",
    "    CI = ppi_ols_ci(X_sub, Y_sub, Yhat_sub, X_unlabeled_sub, Yhat_unlabeled_sub, alpha = 0.05)\n",
    "    ses[i] = (CI[1][coord] - CI[0][coord])/norm.ppf(1 - 0.05/2)/2\n",
    "    \n",
    "    "
   ]
  },
  {
   "cell_type": "code",
   "execution_count": 43,
   "metadata": {},
   "outputs": [
    {
     "data": {
      "image/png": "[encoded data removed]",
      "text/plain": [
       "<Figure size 640x480 with 1 Axes>"
      ]
     },
     "metadata": {},
     "output_type": "display_data"
    }
   ],
   "source": [
    "plt.hist(ses, bins = 20)\n",
    "plt.axvline(most_powerful_pair['se'], color = 'red')\n",
    "plt.show()"
   ]
  }
 ],
 "metadata": {
  "kernelspec": {
   "display_name": "Python 3",
   "language": "python",
   "name": "python3"
  },
  "language_info": {
   "codemirror_mode": {
    "name": "ipython",
    "version": 3
   },
   "file_extension": ".py",
   "mimetype": "text/x-python",
   "name": "python",
   "nbconvert_exporter": "python",
   "pygments_lexer": "ipython3",
   "version": "3.11.2"
  }
 },
 "nbformat": 4,
 "nbformat_minor": 2
}
