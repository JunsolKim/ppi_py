{
 "cells": [
  {
   "cell_type": "markdown",
   "metadata": {},
   "source": [
    "# PPI power analysis\n",
    "\n"
   ]
  },
  {
   "cell_type": "code",
   "execution_count": 43,
   "metadata": {},
   "outputs": [],
   "source": [
    "import os, sys\n",
    "\n",
    "sys.path.append(os.path.abspath(os.path.join(os.getcwd(), os.pardir)))\n",
    "import numpy as np\n",
    "import pandas as pd\n",
    "from ppi_py.datasets import load_dataset\n",
    "from power_ppi import ppi_mean_power\n",
    "from ppi_py import ppi_mean_ci\n",
    "from tqdm import tqdm\n",
    "from scipy.optimize import brentq\n",
    "from scipy.stats import norm\n",
    "from utils import *"
   ]
  },
  {
   "cell_type": "markdown",
   "metadata": {},
   "source": [
    "## Import ballots data"
   ]
  },
  {
   "cell_type": "code",
   "execution_count": 44,
   "metadata": {},
   "outputs": [],
   "source": [
    "dataset_folder = \"./data/\"\n",
    "data = load_dataset(dataset_folder, \"ballots\")\n",
    "Y = data[\"Y\"]\n",
    "Yhat = data[\"Yhat\"]\n",
    "Yhat_unlabeled = data[\"Yhat_unlabeled\"]"
   ]
  },
  {
   "cell_type": "markdown",
   "metadata": {},
   "source": [
    "## Perform initial power analysis with a subset of the data"
   ]
  },
  {
   "cell_type": "code",
   "execution_count": 45,
   "metadata": {},
   "outputs": [
    {
     "name": "stdout",
     "output_type": "stream",
     "text": [
      "Most powerful pair:\n",
      " (array([745.05610196]), array([24749.33370219]), array([1000.]), array([0.00550636]))\n",
      "Cheapest pair:\n",
      " (array([225.90106232]), array([7503.99971278]), array([303.20007007]), array([0.01]))\n"
     ]
    }
   ],
   "source": [
    "n = Y.shape[0]\n",
    "N = Yhat_unlabeled.shape[0]\n",
    "\n",
    "n_initial = 200\n",
    "N_initial = 200\n",
    "\n",
    "labeled_initial = np.random.choice(n, n_initial, replace = False)\n",
    "unlabeled_initial = np.random.choice(N, N_initial, replace = False)\n",
    "\n",
    "Y_initial = Y[labeled_initial]\n",
    "Yhat_initial = Yhat[labeled_initial]\n",
    "Yhat_unlabeled_initial = Yhat_unlabeled[unlabeled_initial]\n",
    "cost_Y = 1\n",
    "cost_Yhat = 0.01\n",
    "\n",
    "most_powerful_pair = ppi_mean_power(Y_initial, Yhat_initial, Yhat_unlabeled_initial, cost_Y, cost_Yhat, budget = 1000)\n",
    "cheapest_pair = ppi_mean_power(Y_initial, Yhat_initial, Yhat_unlabeled_initial, cost_Y, cost_Yhat, se_tol = 0.01)\n",
    "print(\"Most powerful pair:\\n\", most_powerful_pair)\n",
    "print(\"Cheapest pair:\\n\", cheapest_pair)"
   ]
  },
  {
   "cell_type": "code",
   "execution_count": 46,
   "metadata": {},
   "outputs": [
    {
     "name": "stdout",
     "output_type": "stream",
     "text": [
      "Predicted SE for most powerful pair:  0.005506360595471345\n",
      "Estimated SE for most powerful pair:  0.00450513945669836\n"
     ]
    }
   ],
   "source": [
    "n_sub = most_powerful_pair[0][0].astype(int)\n",
    "N_sub = most_powerful_pair[1][0].astype(int)\n",
    "\n",
    "n = Y.shape[0]\n",
    "N = Yhat_unlabeled.shape[0]\n",
    "reps = 200 \n",
    "ses = np.zeros(reps)\n",
    "for i in range(reps):\n",
    "    labeled_sample = np.random.choice(n, n_sub, replace = False)\n",
    "    unlabeled_sample = np.random.choice(N, N_sub, replace = False)\n",
    "\n",
    "    Y_sub = Y[labeled_sample]\n",
    "    Yhat_sub = Yhat[labeled_sample]\n",
    "    Yhat_unlabeled_sub = Yhat_unlabeled[unlabeled_sample]\n",
    "    CI = ppi_mean_ci(Y_sub, Yhat_sub, Yhat_unlabeled_sub, alpha = 0.05)\n",
    "    ses[i] = (CI[1][0] - CI[0][0])/norm.ppf(1 - 0.05/2)/2\n",
    "    \n",
    "print(\"Predicted SE for most powerful pair: \", most_powerful_pair[3][0])\n",
    "print(\"Estimated SE for most powerful pair: \", np.mean(ses))"
   ]
  },
  {
   "cell_type": "code",
   "execution_count": 47,
   "metadata": {},
   "outputs": [
    {
     "name": "stdout",
     "output_type": "stream",
     "text": [
      "Predicted SE for cheapest pair:  0.009999999999999997\n",
      "Estimated SE for cheapest pair:  0.008000296031075852\n"
     ]
    }
   ],
   "source": [
    "n_sub = cheapest_pair[0][0].astype(int)\n",
    "N_sub = cheapest_pair[1][0].astype(int)\n",
    "\n",
    "n = Y.shape[0]\n",
    "N = Yhat_unlabeled.shape[0]\n",
    "reps = 200 \n",
    "ses = np.zeros(reps)\n",
    "for i in range(reps):\n",
    "    labeled_sample = np.random.choice(n, n_sub, replace = False)\n",
    "    unlabeled_sample = np.random.choice(N, N_sub, replace = False)\n",
    "\n",
    "    Y_sub = Y[labeled_sample]\n",
    "    Yhat_sub = Yhat[labeled_sample]\n",
    "    Yhat_unlabeled_sub = Yhat_unlabeled[unlabeled_sample]\n",
    "    CI = ppi_mean_ci(Y_sub, Yhat_sub, Yhat_unlabeled_sub, alpha = 0.05)\n",
    "    ses[i] = (CI[1][0] - CI[0][0])/norm.ppf(1 - 0.05/2)/2\n",
    "    \n",
    "print(\"Predicted SE for cheapest pair: \", cheapest_pair[3][0])\n",
    "print(\"Estimated SE for cheapest pair: \", np.mean(ses))"
   ]
  }
 ],
 "metadata": {
  "kernelspec": {
   "display_name": "Python 3",
   "language": "python",
   "name": "python3"
  },
  "language_info": {
   "codemirror_mode": {
    "name": "ipython",
    "version": 3
   },
   "file_extension": ".py",
   "mimetype": "text/x-python",
   "name": "python",
   "nbconvert_exporter": "python",
   "pygments_lexer": "ipython3",
   "version": "3.11.2"
  }
 },
 "nbformat": 4,
 "nbformat_minor": 2
}
